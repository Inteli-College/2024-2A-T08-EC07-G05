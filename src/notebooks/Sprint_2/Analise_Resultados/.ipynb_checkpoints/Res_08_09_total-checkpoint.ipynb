{
 "cells": [
  {
   "cell_type": "markdown",
   "id": "db504352-8c5a-44a3-a88c-fd2d56b8c533",
   "metadata": {},
   "source": [
    "# Tratamento Tabela Resultados 06 - 07 - 2024"
   ]
  },
  {
   "cell_type": "code",
   "execution_count": 1,
   "id": "357defec-ba66-4d61-bdf5-894c15da7113",
   "metadata": {},
   "outputs": [
    {
     "name": "stdout",
     "output_type": "stream",
     "text": [
      "Requirement already satisfied: ydata-profiling in c:\\users\\inteli\\documents\\github\\mod_7_prog\\aula_3_arima\\venv\\lib\\site-packages (4.9.0)Note: you may need to restart the kernel to use updated packages.\n",
      "\n",
      "Requirement already satisfied: matplotlib in c:\\users\\inteli\\documents\\github\\mod_7_prog\\aula_3_arima\\venv\\lib\\site-packages (3.9.2)\n",
      "Requirement already satisfied: ipywidgets in c:\\users\\inteli\\documents\\github\\mod_7_prog\\aula_3_arima\\venv\\lib\\site-packages (8.1.3)\n",
      "Requirement already satisfied: pandas in c:\\users\\inteli\\documents\\github\\mod_7_prog\\aula_3_arima\\venv\\lib\\site-packages (2.2.2)\n",
      "Requirement already satisfied: pyarrow in c:\\users\\inteli\\documents\\github\\mod_7_prog\\aula_3_arima\\venv\\lib\\site-packages (17.0.0)\n",
      "Collecting openpyxl\n",
      "  Downloading openpyxl-3.1.5-py2.py3-none-any.whl (250 kB)\n",
      "     -------------------------------------- 250.9/250.9 kB 5.1 MB/s eta 0:00:00\n",
      "Requirement already satisfied: scipy<1.14,>=1.4.1 in c:\\users\\inteli\\documents\\github\\mod_7_prog\\aula_3_arima\\venv\\lib\\site-packages (from ydata-profiling) (1.13.1)\n",
      "Requirement already satisfied: pydantic>=2 in c:\\users\\inteli\\documents\\github\\mod_7_prog\\aula_3_arima\\venv\\lib\\site-packages (from ydata-profiling) (2.8.2)\n",
      "Requirement already satisfied: PyYAML<6.1,>=5.0.0 in c:\\users\\inteli\\documents\\github\\mod_7_prog\\aula_3_arima\\venv\\lib\\site-packages (from ydata-profiling) (6.0.2)\n",
      "Requirement already satisfied: jinja2<3.2,>=2.11.1 in c:\\users\\inteli\\documents\\github\\mod_7_prog\\aula_3_arima\\venv\\lib\\site-packages (from ydata-profiling) (3.1.4)\n",
      "Requirement already satisfied: visions[type_image_path]<0.7.7,>=0.7.5 in c:\\users\\inteli\\documents\\github\\mod_7_prog\\aula_3_arima\\venv\\lib\\site-packages (from ydata-profiling) (0.7.6)\n",
      "Requirement already satisfied: numpy<2,>=1.16.0 in c:\\users\\inteli\\documents\\github\\mod_7_prog\\aula_3_arima\\venv\\lib\\site-packages (from ydata-profiling) (1.26.4)\n",
      "Requirement already satisfied: htmlmin==0.1.12 in c:\\users\\inteli\\documents\\github\\mod_7_prog\\aula_3_arima\\venv\\lib\\site-packages (from ydata-profiling) (0.1.12)\n",
      "Requirement already satisfied: phik<0.13,>=0.11.1 in c:\\users\\inteli\\documents\\github\\mod_7_prog\\aula_3_arima\\venv\\lib\\site-packages (from ydata-profiling) (0.12.4)\n",
      "Requirement already satisfied: requests<3,>=2.24.0 in c:\\users\\inteli\\documents\\github\\mod_7_prog\\aula_3_arima\\venv\\lib\\site-packages (from ydata-profiling) (2.32.3)\n",
      "Requirement already satisfied: tqdm<5,>=4.48.2 in c:\\users\\inteli\\documents\\github\\mod_7_prog\\aula_3_arima\\venv\\lib\\site-packages (from ydata-profiling) (4.66.5)\n",
      "Requirement already satisfied: seaborn<0.14,>=0.10.1 in c:\\users\\inteli\\documents\\github\\mod_7_prog\\aula_3_arima\\venv\\lib\\site-packages (from ydata-profiling) (0.13.2)\n",
      "Requirement already satisfied: multimethod<2,>=1.4 in c:\\users\\inteli\\documents\\github\\mod_7_prog\\aula_3_arima\\venv\\lib\\site-packages (from ydata-profiling) (1.12)\n",
      "Requirement already satisfied: statsmodels<1,>=0.13.2 in c:\\users\\inteli\\documents\\github\\mod_7_prog\\aula_3_arima\\venv\\lib\\site-packages (from ydata-profiling) (0.14.2)\n",
      "Requirement already satisfied: typeguard<5,>=3 in c:\\users\\inteli\\documents\\github\\mod_7_prog\\aula_3_arima\\venv\\lib\\site-packages (from ydata-profiling) (4.3.0)\n",
      "Requirement already satisfied: imagehash==4.3.1 in c:\\users\\inteli\\documents\\github\\mod_7_prog\\aula_3_arima\\venv\\lib\\site-packages (from ydata-profiling) (4.3.1)\n",
      "Requirement already satisfied: wordcloud>=1.9.1 in c:\\users\\inteli\\documents\\github\\mod_7_prog\\aula_3_arima\\venv\\lib\\site-packages (from ydata-profiling) (1.9.3)\n",
      "Requirement already satisfied: dacite>=1.8 in c:\\users\\inteli\\documents\\github\\mod_7_prog\\aula_3_arima\\venv\\lib\\site-packages (from ydata-profiling) (1.8.1)\n",
      "Requirement already satisfied: numba<1,>=0.56.0 in c:\\users\\inteli\\documents\\github\\mod_7_prog\\aula_3_arima\\venv\\lib\\site-packages (from ydata-profiling) (0.60.0)\n",
      "Requirement already satisfied: PyWavelets in c:\\users\\inteli\\documents\\github\\mod_7_prog\\aula_3_arima\\venv\\lib\\site-packages (from imagehash==4.3.1->ydata-profiling) (1.7.0)\n",
      "Requirement already satisfied: pillow in c:\\users\\inteli\\documents\\github\\mod_7_prog\\aula_3_arima\\venv\\lib\\site-packages (from imagehash==4.3.1->ydata-profiling) (10.4.0)\n",
      "Requirement already satisfied: contourpy>=1.0.1 in c:\\users\\inteli\\documents\\github\\mod_7_prog\\aula_3_arima\\venv\\lib\\site-packages (from matplotlib) (1.2.1)\n",
      "Requirement already satisfied: cycler>=0.10 in c:\\users\\inteli\\documents\\github\\mod_7_prog\\aula_3_arima\\venv\\lib\\site-packages (from matplotlib) (0.12.1)\n",
      "Requirement already satisfied: fonttools>=4.22.0 in c:\\users\\inteli\\documents\\github\\mod_7_prog\\aula_3_arima\\venv\\lib\\site-packages (from matplotlib) (4.53.1)\n",
      "Requirement already satisfied: kiwisolver>=1.3.1 in c:\\users\\inteli\\documents\\github\\mod_7_prog\\aula_3_arima\\venv\\lib\\site-packages (from matplotlib) (1.4.5)\n",
      "Requirement already satisfied: packaging>=20.0 in c:\\users\\inteli\\documents\\github\\mod_7_prog\\aula_3_arima\\venv\\lib\\site-packages (from matplotlib) (24.1)\n",
      "Requirement already satisfied: pyparsing>=2.3.1 in c:\\users\\inteli\\documents\\github\\mod_7_prog\\aula_3_arima\\venv\\lib\\site-packages (from matplotlib) (3.1.2)\n",
      "Requirement already satisfied: python-dateutil>=2.7 in c:\\users\\inteli\\documents\\github\\mod_7_prog\\aula_3_arima\\venv\\lib\\site-packages (from matplotlib) (2.9.0.post0)\n",
      "Requirement already satisfied: comm>=0.1.3 in c:\\users\\inteli\\documents\\github\\mod_7_prog\\aula_3_arima\\venv\\lib\\site-packages (from ipywidgets) (0.2.2)\n",
      "Requirement already satisfied: ipython>=6.1.0 in c:\\users\\inteli\\documents\\github\\mod_7_prog\\aula_3_arima\\venv\\lib\\site-packages (from ipywidgets) (8.26.0)\n",
      "Requirement already satisfied: traitlets>=4.3.1 in c:\\users\\inteli\\documents\\github\\mod_7_prog\\aula_3_arima\\venv\\lib\\site-packages (from ipywidgets) (5.14.3)\n",
      "Requirement already satisfied: widgetsnbextension~=4.0.11 in c:\\users\\inteli\\documents\\github\\mod_7_prog\\aula_3_arima\\venv\\lib\\site-packages (from ipywidgets) (4.0.11)\n",
      "Requirement already satisfied: jupyterlab-widgets~=3.0.11 in c:\\users\\inteli\\documents\\github\\mod_7_prog\\aula_3_arima\\venv\\lib\\site-packages (from ipywidgets) (3.0.11)\n",
      "Requirement already satisfied: pytz>=2020.1 in c:\\users\\inteli\\documents\\github\\mod_7_prog\\aula_3_arima\\venv\\lib\\site-packages (from pandas) (2024.1)\n",
      "Requirement already satisfied: tzdata>=2022.7 in c:\\users\\inteli\\documents\\github\\mod_7_prog\\aula_3_arima\\venv\\lib\\site-packages (from pandas) (2024.1)\n",
      "Collecting et-xmlfile\n",
      "  Downloading et_xmlfile-1.1.0-py3-none-any.whl (4.7 kB)\n",
      "Requirement already satisfied: decorator in c:\\users\\inteli\\documents\\github\\mod_7_prog\\aula_3_arima\\venv\\lib\\site-packages (from ipython>=6.1.0->ipywidgets) (5.1.1)\n",
      "Requirement already satisfied: jedi>=0.16 in c:\\users\\inteli\\documents\\github\\mod_7_prog\\aula_3_arima\\venv\\lib\\site-packages (from ipython>=6.1.0->ipywidgets) (0.19.1)\n",
      "Requirement already satisfied: matplotlib-inline in c:\\users\\inteli\\documents\\github\\mod_7_prog\\aula_3_arima\\venv\\lib\\site-packages (from ipython>=6.1.0->ipywidgets) (0.1.7)\n",
      "Requirement already satisfied: prompt-toolkit<3.1.0,>=3.0.41 in c:\\users\\inteli\\documents\\github\\mod_7_prog\\aula_3_arima\\venv\\lib\\site-packages (from ipython>=6.1.0->ipywidgets) (3.0.47)\n",
      "Requirement already satisfied: pygments>=2.4.0 in c:\\users\\inteli\\documents\\github\\mod_7_prog\\aula_3_arima\\venv\\lib\\site-packages (from ipython>=6.1.0->ipywidgets) (2.18.0)\n",
      "Requirement already satisfied: stack-data in c:\\users\\inteli\\documents\\github\\mod_7_prog\\aula_3_arima\\venv\\lib\\site-packages (from ipython>=6.1.0->ipywidgets) (0.6.3)\n",
      "Requirement already satisfied: typing-extensions>=4.6 in c:\\users\\inteli\\documents\\github\\mod_7_prog\\aula_3_arima\\venv\\lib\\site-packages (from ipython>=6.1.0->ipywidgets) (4.12.2)\n",
      "Requirement already satisfied: colorama in c:\\users\\inteli\\documents\\github\\mod_7_prog\\aula_3_arima\\venv\\lib\\site-packages (from ipython>=6.1.0->ipywidgets) (0.4.6)\n",
      "Requirement already satisfied: MarkupSafe>=2.0 in c:\\users\\inteli\\documents\\github\\mod_7_prog\\aula_3_arima\\venv\\lib\\site-packages (from jinja2<3.2,>=2.11.1->ydata-profiling) (2.1.5)\n",
      "Requirement already satisfied: llvmlite<0.44,>=0.43.0dev0 in c:\\users\\inteli\\documents\\github\\mod_7_prog\\aula_3_arima\\venv\\lib\\site-packages (from numba<1,>=0.56.0->ydata-profiling) (0.43.0)\n",
      "Requirement already satisfied: joblib>=0.14.1 in c:\\users\\inteli\\documents\\github\\mod_7_prog\\aula_3_arima\\venv\\lib\\site-packages (from phik<0.13,>=0.11.1->ydata-profiling) (1.4.2)\n",
      "Requirement already satisfied: annotated-types>=0.4.0 in c:\\users\\inteli\\documents\\github\\mod_7_prog\\aula_3_arima\\venv\\lib\\site-packages (from pydantic>=2->ydata-profiling) (0.7.0)\n",
      "Requirement already satisfied: pydantic-core==2.20.1 in c:\\users\\inteli\\documents\\github\\mod_7_prog\\aula_3_arima\\venv\\lib\\site-packages (from pydantic>=2->ydata-profiling) (2.20.1)\n",
      "Requirement already satisfied: six>=1.5 in c:\\users\\inteli\\documents\\github\\mod_7_prog\\aula_3_arima\\venv\\lib\\site-packages (from python-dateutil>=2.7->matplotlib) (1.16.0)\n",
      "Requirement already satisfied: charset-normalizer<4,>=2 in c:\\users\\inteli\\documents\\github\\mod_7_prog\\aula_3_arima\\venv\\lib\\site-packages (from requests<3,>=2.24.0->ydata-profiling) (3.3.2)\n",
      "Requirement already satisfied: idna<4,>=2.5 in c:\\users\\inteli\\documents\\github\\mod_7_prog\\aula_3_arima\\venv\\lib\\site-packages (from requests<3,>=2.24.0->ydata-profiling) (3.7)\n",
      "Requirement already satisfied: urllib3<3,>=1.21.1 in c:\\users\\inteli\\documents\\github\\mod_7_prog\\aula_3_arima\\venv\\lib\\site-packages (from requests<3,>=2.24.0->ydata-profiling) (2.2.2)\n",
      "Requirement already satisfied: certifi>=2017.4.17 in c:\\users\\inteli\\documents\\github\\mod_7_prog\\aula_3_arima\\venv\\lib\\site-packages (from requests<3,>=2.24.0->ydata-profiling) (2024.7.4)\n",
      "Requirement already satisfied: patsy>=0.5.6 in c:\\users\\inteli\\documents\\github\\mod_7_prog\\aula_3_arima\\venv\\lib\\site-packages (from statsmodels<1,>=0.13.2->ydata-profiling) (0.5.6)\n",
      "Requirement already satisfied: attrs>=19.3.0 in c:\\users\\inteli\\documents\\github\\mod_7_prog\\aula_3_arima\\venv\\lib\\site-packages (from visions[type_image_path]<0.7.7,>=0.7.5->ydata-profiling) (24.2.0)\n",
      "Requirement already satisfied: networkx>=2.4 in c:\\users\\inteli\\documents\\github\\mod_7_prog\\aula_3_arima\\venv\\lib\\site-packages (from visions[type_image_path]<0.7.7,>=0.7.5->ydata-profiling) (3.3)\n",
      "Requirement already satisfied: parso<0.9.0,>=0.8.3 in c:\\users\\inteli\\documents\\github\\mod_7_prog\\aula_3_arima\\venv\\lib\\site-packages (from jedi>=0.16->ipython>=6.1.0->ipywidgets) (0.8.4)\n",
      "Requirement already satisfied: wcwidth in c:\\users\\inteli\\documents\\github\\mod_7_prog\\aula_3_arima\\venv\\lib\\site-packages (from prompt-toolkit<3.1.0,>=3.0.41->ipython>=6.1.0->ipywidgets) (0.2.13)\n",
      "Requirement already satisfied: executing>=1.2.0 in c:\\users\\inteli\\documents\\github\\mod_7_prog\\aula_3_arima\\venv\\lib\\site-packages (from stack-data->ipython>=6.1.0->ipywidgets) (2.0.1)\n",
      "Requirement already satisfied: asttokens>=2.1.0 in c:\\users\\inteli\\documents\\github\\mod_7_prog\\aula_3_arima\\venv\\lib\\site-packages (from stack-data->ipython>=6.1.0->ipywidgets) (2.4.1)\n",
      "Requirement already satisfied: pure-eval in c:\\users\\inteli\\documents\\github\\mod_7_prog\\aula_3_arima\\venv\\lib\\site-packages (from stack-data->ipython>=6.1.0->ipywidgets) (0.2.3)\n",
      "Installing collected packages: et-xmlfile, openpyxl\n",
      "Successfully installed et-xmlfile-1.1.0 openpyxl-3.1.5\n"
     ]
    },
    {
     "name": "stderr",
     "output_type": "stream",
     "text": [
      "\n",
      "[notice] A new release of pip available: 22.3.1 -> 24.2\n",
      "[notice] To update, run: python.exe -m pip install --upgrade pip\n"
     ]
    }
   ],
   "source": [
    "pip install ydata-profiling matplotlib ipywidgets pandas pyarrow openpyxl"
   ]
  },
  {
   "cell_type": "code",
   "execution_count": 2,
   "id": "69210359-0c2c-4805-a31e-d9776e25c9bb",
   "metadata": {},
   "outputs": [],
   "source": [
    "import pandas as pd\n",
    "import pyarrow\n",
    "import matplotlib.pyplot as plt"
   ]
  },
  {
   "cell_type": "markdown",
   "id": "4ae568a7-69ed-47fc-8df0-5bff3975e4af",
   "metadata": {
    "jp-MarkdownHeadingCollapsed": true
   },
   "source": [
    "## Importando dataset (não rodar pq se não vai baixar os dados novamnte)"
   ]
  },
  {
   "cell_type": "code",
   "execution_count": 13,
   "id": "b49d4f86-0317-4f3d-be8f-1984c04455d2",
   "metadata": {},
   "outputs": [
    {
     "name": "stdout",
     "output_type": "stream",
     "text": [
      "Planilhas disponíveis: ['Relatório 1', 'Relatório 1(1)', 'Relatório 1(2)', 'Relatório 1(3)', 'Relatório 1(4)', 'Relatório 1(5)', 'Relatório 1(6)', 'Relatório 1(7)', 'Relatório 1(8)', 'Relatório 1(9)', 'Relatório 1(10)']\n"
     ]
    }
   ],
   "source": [
    "import pandas as pd\n",
    "\n",
    "# Carrega o arquivo Excel\n",
    "file_path = '../../../data/csv/RESULTADOS_08_2023_09_2023.xlsx'\n",
    "xls = pd.ExcelFile(file_path)\n",
    "\n",
    "# Lista todas as planilhas no arquivo\n",
    "print(\"Planilhas disponíveis:\", xls.sheet_names)\n",
    "\n",
    "# Itera por cada planilha e trabalha com os dados\n",
    "# for sheet_name in xls.sheet_names:\n",
    "#     # Lê a planilha específica\n",
    "#     df = pd.read_excel(xls, sheet_name=sheet_name)\n",
    "#     print(f\"\\nDados da planilha: {sheet_name}\")\n",
    "#     print(df.head())  # Exibe as primeiras linhas da planilha\n",
    "\n",
    "    # Aqui você pode manipular os dados conforme necessário\n",
    "    # Exemplo: obter a soma de uma coluna\n",
    "    # total = df['coluna_de_interesse'].sum()\n"
   ]
  },
  {
   "cell_type": "code",
   "execution_count": null,
   "id": "710f29cd-ef6b-4026-9558-4b8650e14401",
   "metadata": {},
   "outputs": [],
   "source": [
    "# Carrega o arquivo Excel\n",
    "file_path = '../../../data/csv/RESULTADOS_10_2023_11_2023.xlsx'\n",
    "xls = pd.ExcelFile(file_path)\n",
    "\n",
    "# Lista todas as planilhas no arquivo\n",
    "print(\"Planilhas disponíveis:\", xls.sheet_names)"
   ]
  },
  {
   "cell_type": "code",
   "execution_count": 15,
   "id": "888e3a69-a5ed-45ac-8776-7fb1d767c191",
   "metadata": {},
   "outputs": [
    {
     "name": "stderr",
     "output_type": "stream",
     "text": [
      "C:\\Users\\Inteli\\Documents\\GitHub\\MOD_7_PROG\\aula_3_ARIMA\\venv\\Lib\\site-packages\\openpyxl\\styles\\stylesheet.py:237: UserWarning: Workbook contains no default style, apply openpyxl's default\n",
      "  warn(\"Workbook contains no default style, apply openpyxl's default\")\n"
     ]
    },
    {
     "name": "stdout",
     "output_type": "stream",
     "text": [
      "A planilha 'Relatório 1' foi salva como 'p1_res_8_9.csv'.\n",
      "A planilha 'Relatório 1(1)' foi salva como 'p2_res_8_9.csv'.\n",
      "A planilha 'Relatório 1(2)' foi salva como 'p3_res_8_9.csv'.\n",
      "A planilha 'Relatório 1(3)' foi salva como 'p4_res_8_9.csv'.\n",
      "A planilha 'Relatório 1(4)' foi salva como 'p5_res_8_9.csv'.\n",
      "A planilha 'Relatório 1(5)' foi salva como 'p6_res_8_9.csv'.\n",
      "A planilha 'Relatório 1(6)' foi salva como 'p7_res_8_9.csv'.\n",
      "A planilha 'Relatório 1(7)' foi salva como 'p8_res_8_9.csv'.\n",
      "A planilha 'Relatório 1(8)' foi salva como 'p9_res_8_9.csv'.\n",
      "A planilha 'Relatório 1(9)' foi salva como 'p10_res_8_9.csv'.\n",
      "A planilha 'Relatório 1(10)' foi salva como 'p11_res_8_9.csv'.\n"
     ]
    }
   ],
   "source": [
    "import pandas as pd\n",
    "\n",
    "# Carrega o arquivo Excel\n",
    "file_path = '../../../data/csv/RESULTADOS_08_2023_09_2023.xlsx'\n",
    "xls = pd.ExcelFile(file_path)\n",
    "\n",
    "# Itera por cada planilha e salva como CSV\n",
    "for i, sheet_name in enumerate(xls.sheet_names):\n",
    "    # Lê a planilha\n",
    "    df = pd.read_excel(xls, sheet_name=sheet_name)\n",
    "    \n",
    "    # Define o nome do arquivo CSV\n",
    "    csv_file_path = f'p{i+1}_res_8_9.csv'\n",
    "    \n",
    "    # Salva a planilha como CSV\n",
    "    df.to_csv(csv_file_path, index=False)\n",
    "    \n",
    "    print(f\"A planilha '{sheet_name}' foi salva como '{csv_file_path}'.\")\n",
    "\n"
   ]
  },
  {
   "cell_type": "code",
   "execution_count": 10,
   "id": "1b6db926-eaed-4a2b-9c33-e9d8cdbb6152",
   "metadata": {},
   "outputs": [
    {
     "data": {
      "text/html": [
       "<div>\n",
       "<style scoped>\n",
       "    .dataframe tbody tr th:only-of-type {\n",
       "        vertical-align: middle;\n",
       "    }\n",
       "\n",
       "    .dataframe tbody tr th {\n",
       "        vertical-align: top;\n",
       "    }\n",
       "\n",
       "    .dataframe thead th {\n",
       "        text-align: right;\n",
       "    }\n",
       "</style>\n",
       "<table border=\"1\" class=\"dataframe\">\n",
       "  <thead>\n",
       "    <tr style=\"text-align: right;\">\n",
       "      <th></th>\n",
       "      <th>Unnamed: 0</th>\n",
       "      <th>Unnamed: 1</th>\n",
       "      <th>Unnamed: 2</th>\n",
       "      <th>Unnamed: 3</th>\n",
       "      <th>Unnamed: 4</th>\n",
       "      <th>Unnamed: 5</th>\n",
       "      <th>Unnamed: 6</th>\n",
       "      <th>Unnamed: 7</th>\n",
       "      <th>Unnamed: 8</th>\n",
       "    </tr>\n",
       "  </thead>\n",
       "  <tbody>\n",
       "    <tr>\n",
       "      <th>0</th>\n",
       "      <td>NaN</td>\n",
       "      <td>KNR</td>\n",
       "      <td>NAME</td>\n",
       "      <td>ID</td>\n",
       "      <td>STATUS</td>\n",
       "      <td>UNIT</td>\n",
       "      <td>VALUE_ID</td>\n",
       "      <td>VALUE</td>\n",
       "      <td>DATA</td>\n",
       "    </tr>\n",
       "    <tr>\n",
       "      <th>1</th>\n",
       "      <td>NaN</td>\n",
       "      <td>2023-2016173</td>\n",
       "      <td>272500</td>\n",
       "      <td>2</td>\n",
       "      <td>10</td>\n",
       "      <td>Grad</td>\n",
       "      <td>1</td>\n",
       "      <td>1.00                                          ...</td>\n",
       "      <td>2023-06-06 07:07:30</td>\n",
       "    </tr>\n",
       "    <tr>\n",
       "      <th>2</th>\n",
       "      <td>NaN</td>\n",
       "      <td>2023-2016173</td>\n",
       "      <td>272500</td>\n",
       "      <td>2</td>\n",
       "      <td>10</td>\n",
       "      <td>Grad</td>\n",
       "      <td>3</td>\n",
       "      <td>253.00                                        ...</td>\n",
       "      <td>2023-06-06 07:07:30</td>\n",
       "    </tr>\n",
       "    <tr>\n",
       "      <th>3</th>\n",
       "      <td>NaN</td>\n",
       "      <td>2023-2016173</td>\n",
       "      <td>272500</td>\n",
       "      <td>2</td>\n",
       "      <td>10</td>\n",
       "      <td>Nm</td>\n",
       "      <td>0</td>\n",
       "      <td>2.05                                          ...</td>\n",
       "      <td>2023-06-06 07:07:30</td>\n",
       "    </tr>\n",
       "    <tr>\n",
       "      <th>4</th>\n",
       "      <td>NaN</td>\n",
       "      <td>2023-2016173</td>\n",
       "      <td>272500</td>\n",
       "      <td>2</td>\n",
       "      <td>10</td>\n",
       "      <td>Nm</td>\n",
       "      <td>2</td>\n",
       "      <td>6.00                                          ...</td>\n",
       "      <td>2023-06-06 07:07:30</td>\n",
       "    </tr>\n",
       "  </tbody>\n",
       "</table>\n",
       "</div>"
      ],
      "text/plain": [
       "   Unnamed: 0    Unnamed: 1 Unnamed: 2 Unnamed: 3 Unnamed: 4  Unnamed: 5  \\\n",
       "0         NaN           KNR       NAME         ID     STATUS        UNIT   \n",
       "1         NaN  2023-2016173     272500          2         10  Grad         \n",
       "2         NaN  2023-2016173     272500          2         10  Grad         \n",
       "3         NaN  2023-2016173     272500          2         10  Nm           \n",
       "4         NaN  2023-2016173     272500          2         10  Nm           \n",
       "\n",
       "  Unnamed: 6                                         Unnamed: 7  \\\n",
       "0   VALUE_ID                                              VALUE   \n",
       "1          1  1.00                                          ...   \n",
       "2          3  253.00                                        ...   \n",
       "3          0  2.05                                          ...   \n",
       "4          2  6.00                                          ...   \n",
       "\n",
       "            Unnamed: 8  \n",
       "0                 DATA  \n",
       "1  2023-06-06 07:07:30  \n",
       "2  2023-06-06 07:07:30  \n",
       "3  2023-06-06 07:07:30  \n",
       "4  2023-06-06 07:07:30  "
      ]
     },
     "execution_count": 10,
     "metadata": {},
     "output_type": "execute_result"
    }
   ],
   "source": [
    "df.head()"
   ]
  },
  {
   "cell_type": "markdown",
   "id": "ac55a5ca-69c8-4e70-8f5e-6c91e976ad80",
   "metadata": {},
   "source": [
    "# Importando dados planilha 1 - 8 e 9"
   ]
  },
  {
   "cell_type": "code",
   "execution_count": 90,
   "id": "558d9caf-56a0-4db3-8cb2-d871c335ce50",
   "metadata": {},
   "outputs": [],
   "source": [
    "df = pd.read_csv(\"../../../data/csv/p1_res_8_9.csv\", engine='pyarrow')"
   ]
  },
  {
   "cell_type": "code",
   "execution_count": 91,
   "id": "9860db6b-ac50-4b3a-ab35-799d93db439b",
   "metadata": {},
   "outputs": [
    {
     "data": {
      "text/html": [
       "<div>\n",
       "<style scoped>\n",
       "    .dataframe tbody tr th:only-of-type {\n",
       "        vertical-align: middle;\n",
       "    }\n",
       "\n",
       "    .dataframe tbody tr th {\n",
       "        vertical-align: top;\n",
       "    }\n",
       "\n",
       "    .dataframe thead th {\n",
       "        text-align: right;\n",
       "    }\n",
       "</style>\n",
       "<table border=\"1\" class=\"dataframe\">\n",
       "  <thead>\n",
       "    <tr style=\"text-align: right;\">\n",
       "      <th></th>\n",
       "      <th>Unnamed: 0</th>\n",
       "      <th>Unnamed: 1</th>\n",
       "      <th>Unnamed: 2</th>\n",
       "      <th>Unnamed: 3</th>\n",
       "      <th>Unnamed: 4</th>\n",
       "      <th>Unnamed: 5</th>\n",
       "      <th>Unnamed: 6</th>\n",
       "      <th>Unnamed: 7</th>\n",
       "      <th>Unnamed: 8</th>\n",
       "    </tr>\n",
       "  </thead>\n",
       "  <tbody>\n",
       "    <tr>\n",
       "      <th>0</th>\n",
       "      <td>NaN</td>\n",
       "      <td>None</td>\n",
       "      <td>None</td>\n",
       "      <td>Relatório 1</td>\n",
       "      <td>None</td>\n",
       "      <td>None</td>\n",
       "      <td>None</td>\n",
       "      <td>None</td>\n",
       "      <td>None</td>\n",
       "    </tr>\n",
       "    <tr>\n",
       "      <th>1</th>\n",
       "      <td>NaN</td>\n",
       "      <td>None</td>\n",
       "      <td>None</td>\n",
       "      <td>None</td>\n",
       "      <td>None</td>\n",
       "      <td>None</td>\n",
       "      <td>None</td>\n",
       "      <td>None</td>\n",
       "      <td>None</td>\n",
       "    </tr>\n",
       "    <tr>\n",
       "      <th>2</th>\n",
       "      <td>NaN</td>\n",
       "      <td>KNR</td>\n",
       "      <td>NAME</td>\n",
       "      <td>ID</td>\n",
       "      <td>STATUS</td>\n",
       "      <td>UNIT</td>\n",
       "      <td>VALUE_ID</td>\n",
       "      <td>VALUE</td>\n",
       "      <td>DATA</td>\n",
       "    </tr>\n",
       "    <tr>\n",
       "      <th>3</th>\n",
       "      <td>NaN</td>\n",
       "      <td>2023-2316418</td>\n",
       "      <td>012001</td>\n",
       "      <td>1</td>\n",
       "      <td>10</td>\n",
       "      <td>None</td>\n",
       "      <td>0</td>\n",
       "      <td>None</td>\n",
       "      <td>2023-08-02 12:04:16</td>\n",
       "    </tr>\n",
       "    <tr>\n",
       "      <th>4</th>\n",
       "      <td>NaN</td>\n",
       "      <td>2023-2316418</td>\n",
       "      <td>012002</td>\n",
       "      <td>1</td>\n",
       "      <td>10</td>\n",
       "      <td>None</td>\n",
       "      <td>0</td>\n",
       "      <td>None</td>\n",
       "      <td>2023-08-02 12:18:14</td>\n",
       "    </tr>\n",
       "  </tbody>\n",
       "</table>\n",
       "</div>"
      ],
      "text/plain": [
       "   Unnamed: 0    Unnamed: 1 Unnamed: 2   Unnamed: 3 Unnamed: 4 Unnamed: 5  \\\n",
       "0         NaN          None       None  Relatório 1       None       None   \n",
       "1         NaN          None       None         None       None       None   \n",
       "2         NaN           KNR       NAME           ID     STATUS       UNIT   \n",
       "3         NaN  2023-2316418     012001            1         10       None   \n",
       "4         NaN  2023-2316418     012002            1         10       None   \n",
       "\n",
       "  Unnamed: 6 Unnamed: 7           Unnamed: 8  \n",
       "0       None       None                 None  \n",
       "1       None       None                 None  \n",
       "2   VALUE_ID      VALUE                 DATA  \n",
       "3          0       None  2023-08-02 12:04:16  \n",
       "4          0       None  2023-08-02 12:18:14  "
      ]
     },
     "execution_count": 91,
     "metadata": {},
     "output_type": "execute_result"
    }
   ],
   "source": [
    "df.head()"
   ]
  },
  {
   "cell_type": "code",
   "execution_count": 92,
   "id": "43680bbc-0716-493d-8745-5877c54988bd",
   "metadata": {
    "scrolled": true
   },
   "outputs": [],
   "source": [
    "df.drop(columns = 'Unnamed: 0', inplace=True)"
   ]
  },
  {
   "cell_type": "code",
   "execution_count": 93,
   "id": "b55d8c24-1e96-4798-a685-384d6d80c8b9",
   "metadata": {},
   "outputs": [],
   "source": [
    "df.columns = df.iloc[2]\n",
    "df.drop([0,1,2], axis = 0, inplace=True)"
   ]
  },
  {
   "cell_type": "code",
   "execution_count": 94,
   "id": "22e408a8-8c33-409e-899e-573c6632854a",
   "metadata": {},
   "outputs": [
    {
     "data": {
      "text/html": [
       "<div>\n",
       "<style scoped>\n",
       "    .dataframe tbody tr th:only-of-type {\n",
       "        vertical-align: middle;\n",
       "    }\n",
       "\n",
       "    .dataframe tbody tr th {\n",
       "        vertical-align: top;\n",
       "    }\n",
       "\n",
       "    .dataframe thead th {\n",
       "        text-align: right;\n",
       "    }\n",
       "</style>\n",
       "<table border=\"1\" class=\"dataframe\">\n",
       "  <thead>\n",
       "    <tr style=\"text-align: right;\">\n",
       "      <th>2</th>\n",
       "      <th>KNR</th>\n",
       "      <th>NAME</th>\n",
       "      <th>ID</th>\n",
       "      <th>STATUS</th>\n",
       "      <th>UNIT</th>\n",
       "      <th>VALUE_ID</th>\n",
       "      <th>VALUE</th>\n",
       "      <th>DATA</th>\n",
       "    </tr>\n",
       "  </thead>\n",
       "  <tbody>\n",
       "    <tr>\n",
       "      <th>3</th>\n",
       "      <td>2023-2316418</td>\n",
       "      <td>012001</td>\n",
       "      <td>1</td>\n",
       "      <td>10</td>\n",
       "      <td>None</td>\n",
       "      <td>0</td>\n",
       "      <td>None</td>\n",
       "      <td>2023-08-02 12:04:16</td>\n",
       "    </tr>\n",
       "    <tr>\n",
       "      <th>4</th>\n",
       "      <td>2023-2316418</td>\n",
       "      <td>012002</td>\n",
       "      <td>1</td>\n",
       "      <td>10</td>\n",
       "      <td>None</td>\n",
       "      <td>0</td>\n",
       "      <td>None</td>\n",
       "      <td>2023-08-02 12:18:14</td>\n",
       "    </tr>\n",
       "    <tr>\n",
       "      <th>5</th>\n",
       "      <td>2023-2316418</td>\n",
       "      <td>012003</td>\n",
       "      <td>1</td>\n",
       "      <td>10</td>\n",
       "      <td>None</td>\n",
       "      <td>0</td>\n",
       "      <td>None</td>\n",
       "      <td>2023-08-02 12:18:27</td>\n",
       "    </tr>\n",
       "    <tr>\n",
       "      <th>6</th>\n",
       "      <td>2023-2316418</td>\n",
       "      <td>012004</td>\n",
       "      <td>1</td>\n",
       "      <td>10</td>\n",
       "      <td>None</td>\n",
       "      <td>0</td>\n",
       "      <td>None</td>\n",
       "      <td>2023-08-02 12:17:27</td>\n",
       "    </tr>\n",
       "    <tr>\n",
       "      <th>7</th>\n",
       "      <td>2023-2316418</td>\n",
       "      <td>018001</td>\n",
       "      <td>1</td>\n",
       "      <td>10</td>\n",
       "      <td>None</td>\n",
       "      <td>0</td>\n",
       "      <td>None</td>\n",
       "      <td>2023-08-02 11:57:29</td>\n",
       "    </tr>\n",
       "  </tbody>\n",
       "</table>\n",
       "</div>"
      ],
      "text/plain": [
       "2           KNR    NAME ID STATUS  UNIT VALUE_ID VALUE                 DATA\n",
       "3  2023-2316418  012001  1     10  None        0  None  2023-08-02 12:04:16\n",
       "4  2023-2316418  012002  1     10  None        0  None  2023-08-02 12:18:14\n",
       "5  2023-2316418  012003  1     10  None        0  None  2023-08-02 12:18:27\n",
       "6  2023-2316418  012004  1     10  None        0  None  2023-08-02 12:17:27\n",
       "7  2023-2316418  018001  1     10  None        0  None  2023-08-02 11:57:29"
      ]
     },
     "execution_count": 94,
     "metadata": {},
     "output_type": "execute_result"
    }
   ],
   "source": [
    "df.head()"
   ]
  },
  {
   "cell_type": "code",
   "execution_count": 95,
   "id": "0b48790e-7991-43d6-8bd2-7c929d6f34bd",
   "metadata": {},
   "outputs": [
    {
     "name": "stdout",
     "output_type": "stream",
     "text": [
      "Columns: ['KNR', 'NAME', 'ID', 'STATUS', 'UNIT', 'VALUE_ID', 'VALUE', 'DATA']\n"
     ]
    }
   ],
   "source": [
    "columns = df.columns.tolist()\n",
    "print(\"Columns:\", columns)"
   ]
  },
  {
   "cell_type": "markdown",
   "id": "725b1489-0bf7-4677-90a6-4eb7e9dedbfc",
   "metadata": {},
   "source": [
    "## Tirando coluna vazia"
   ]
  },
  {
   "cell_type": "code",
   "execution_count": 96,
   "id": "6016e0f0-1157-4b5d-8301-c2061f027889",
   "metadata": {},
   "outputs": [],
   "source": [
    "df = df.drop_duplicates()"
   ]
  },
  {
   "cell_type": "markdown",
   "id": "f034035f-e66a-47a5-a9f4-fc3bb383fc74",
   "metadata": {},
   "source": [
    "## Removendo nulos"
   ]
  },
  {
   "cell_type": "code",
   "execution_count": 97,
   "id": "a305e12b-b9d4-4a2e-983e-71b43708f2a7",
   "metadata": {},
   "outputs": [],
   "source": [
    "df = df.dropna()"
   ]
  },
  {
   "cell_type": "markdown",
   "id": "2074d5d3-0049-4bbe-8af8-f01ef31bf553",
   "metadata": {},
   "source": [
    "## Convertendo data de object pra datetime"
   ]
  },
  {
   "cell_type": "code",
   "execution_count": 98,
   "id": "e61ef01d-7539-4a7e-bf4f-00a7d7277daa",
   "metadata": {},
   "outputs": [],
   "source": [
    "df['DATA'] = pd.to_datetime(df['DATA'], errors='coerce')"
   ]
  },
  {
   "cell_type": "markdown",
   "id": "f3a83a88-6bcd-417b-895e-99b76340710b",
   "metadata": {},
   "source": [
    "## Criando as colunas por status e por id"
   ]
  },
  {
   "cell_type": "code",
   "execution_count": 99,
   "id": "72f923ab-4543-4415-aa01-dfa8ce965c06",
   "metadata": {},
   "outputs": [],
   "source": [
    "pivot_df = df.pivot_table(index='KNR', columns=[\"ID\", \"STATUS\"], aggfunc='size', fill_value=0)\n",
    "\n",
    "pivot_df.columns = [f'QTD_STATUS_{col[0]}_OK' if col[1]== 10 else f'QTD_STATUS_{col[0]}_NOK' for col in pivot_df.columns]\n",
    "\n",
    "pivot_df.reset_index(inplace=True)"
   ]
  },
  {
   "cell_type": "markdown",
   "id": "c6e1e1ab-ea4f-46f7-ba1d-c0ae630543ed",
   "metadata": {},
   "source": [
    "## Criando coluna de quantidade de operações por KNR, que, no caso, também é a soma dos status de cada resultado"
   ]
  },
  {
   "cell_type": "code",
   "execution_count": 100,
   "id": "2dd202b5-b5d9-4b24-bbc4-df5c92e524fa",
   "metadata": {},
   "outputs": [],
   "source": [
    "pivot_df[\"TEMPO_MEDIO\"] = df.groupby('KNR').DATA.transform('max') - df.groupby('KNR').DATA.transform('min')"
   ]
  },
  {
   "cell_type": "markdown",
   "id": "5e3afa3a-27de-4f69-941c-f8bf4a92b2c7",
   "metadata": {},
   "source": [
    "## Transformando tempo em minutos"
   ]
  },
  {
   "cell_type": "code",
   "execution_count": 101,
   "id": "892a44bb-ac56-4526-a35d-851134dfca10",
   "metadata": {},
   "outputs": [],
   "source": [
    "pivot_df[\"TEMPO_MEDIO\"] = pivot_df[\"TEMPO_MEDIO\"].dt.total_seconds()/60"
   ]
  },
  {
   "cell_type": "code",
   "execution_count": 102,
   "id": "8f6bf98b-43ab-424d-a7bd-f3a688474823",
   "metadata": {},
   "outputs": [
    {
     "data": {
      "text/html": [
       "<div>\n",
       "<style scoped>\n",
       "    .dataframe tbody tr th:only-of-type {\n",
       "        vertical-align: middle;\n",
       "    }\n",
       "\n",
       "    .dataframe tbody tr th {\n",
       "        vertical-align: top;\n",
       "    }\n",
       "\n",
       "    .dataframe thead th {\n",
       "        text-align: right;\n",
       "    }\n",
       "</style>\n",
       "<table border=\"1\" class=\"dataframe\">\n",
       "  <thead>\n",
       "    <tr style=\"text-align: right;\">\n",
       "      <th></th>\n",
       "      <th>KNR</th>\n",
       "      <th>QTD_STATUS_1_NOK</th>\n",
       "      <th>QTD_STATUS_1_NOK</th>\n",
       "      <th>QTD_STATUS_2_NOK</th>\n",
       "      <th>QTD_STATUS_2_NOK</th>\n",
       "      <th>QTD_STATUS_718_NOK</th>\n",
       "      <th>QTD_STATUS_718_NOK</th>\n",
       "      <th>TEMPO_MEDIO</th>\n",
       "    </tr>\n",
       "  </thead>\n",
       "  <tbody>\n",
       "    <tr>\n",
       "      <th>0</th>\n",
       "      <td>2023-2316418</td>\n",
       "      <td>2</td>\n",
       "      <td>0</td>\n",
       "      <td>727</td>\n",
       "      <td>0</td>\n",
       "      <td>32</td>\n",
       "      <td>0</td>\n",
       "      <td>NaN</td>\n",
       "    </tr>\n",
       "    <tr>\n",
       "      <th>1</th>\n",
       "      <td>2023-2316419</td>\n",
       "      <td>2</td>\n",
       "      <td>0</td>\n",
       "      <td>714</td>\n",
       "      <td>4</td>\n",
       "      <td>33</td>\n",
       "      <td>0</td>\n",
       "      <td>NaN</td>\n",
       "    </tr>\n",
       "    <tr>\n",
       "      <th>2</th>\n",
       "      <td>2023-2816173</td>\n",
       "      <td>0</td>\n",
       "      <td>0</td>\n",
       "      <td>0</td>\n",
       "      <td>0</td>\n",
       "      <td>1</td>\n",
       "      <td>0</td>\n",
       "      <td>NaN</td>\n",
       "    </tr>\n",
       "    <tr>\n",
       "      <th>3</th>\n",
       "      <td>2023-2826041</td>\n",
       "      <td>0</td>\n",
       "      <td>0</td>\n",
       "      <td>0</td>\n",
       "      <td>0</td>\n",
       "      <td>1</td>\n",
       "      <td>0</td>\n",
       "      <td>NaN</td>\n",
       "    </tr>\n",
       "    <tr>\n",
       "      <th>4</th>\n",
       "      <td>2023-2826097</td>\n",
       "      <td>0</td>\n",
       "      <td>0</td>\n",
       "      <td>0</td>\n",
       "      <td>0</td>\n",
       "      <td>1</td>\n",
       "      <td>0</td>\n",
       "      <td>NaN</td>\n",
       "    </tr>\n",
       "    <tr>\n",
       "      <th>5</th>\n",
       "      <td>2023-2826121</td>\n",
       "      <td>0</td>\n",
       "      <td>0</td>\n",
       "      <td>0</td>\n",
       "      <td>0</td>\n",
       "      <td>1</td>\n",
       "      <td>4</td>\n",
       "      <td>NaN</td>\n",
       "    </tr>\n",
       "    <tr>\n",
       "      <th>6</th>\n",
       "      <td>2023-2826215</td>\n",
       "      <td>0</td>\n",
       "      <td>0</td>\n",
       "      <td>0</td>\n",
       "      <td>0</td>\n",
       "      <td>1</td>\n",
       "      <td>0</td>\n",
       "      <td>NaN</td>\n",
       "    </tr>\n",
       "    <tr>\n",
       "      <th>7</th>\n",
       "      <td>2023-2826241</td>\n",
       "      <td>0</td>\n",
       "      <td>0</td>\n",
       "      <td>0</td>\n",
       "      <td>0</td>\n",
       "      <td>1</td>\n",
       "      <td>0</td>\n",
       "      <td>NaN</td>\n",
       "    </tr>\n",
       "    <tr>\n",
       "      <th>8</th>\n",
       "      <td>2023-2826305</td>\n",
       "      <td>0</td>\n",
       "      <td>0</td>\n",
       "      <td>0</td>\n",
       "      <td>0</td>\n",
       "      <td>1</td>\n",
       "      <td>1</td>\n",
       "      <td>489.933333</td>\n",
       "    </tr>\n",
       "    <tr>\n",
       "      <th>9</th>\n",
       "      <td>2023-2836050</td>\n",
       "      <td>0</td>\n",
       "      <td>0</td>\n",
       "      <td>6</td>\n",
       "      <td>0</td>\n",
       "      <td>33</td>\n",
       "      <td>0</td>\n",
       "      <td>489.933333</td>\n",
       "    </tr>\n",
       "    <tr>\n",
       "      <th>10</th>\n",
       "      <td>2023-2836148</td>\n",
       "      <td>0</td>\n",
       "      <td>0</td>\n",
       "      <td>4</td>\n",
       "      <td>0</td>\n",
       "      <td>33</td>\n",
       "      <td>0</td>\n",
       "      <td>489.933333</td>\n",
       "    </tr>\n",
       "    <tr>\n",
       "      <th>11</th>\n",
       "      <td>2023-2836159</td>\n",
       "      <td>0</td>\n",
       "      <td>0</td>\n",
       "      <td>0</td>\n",
       "      <td>0</td>\n",
       "      <td>1</td>\n",
       "      <td>0</td>\n",
       "      <td>489.933333</td>\n",
       "    </tr>\n",
       "    <tr>\n",
       "      <th>12</th>\n",
       "      <td>2023-2836233</td>\n",
       "      <td>0</td>\n",
       "      <td>0</td>\n",
       "      <td>0</td>\n",
       "      <td>0</td>\n",
       "      <td>1</td>\n",
       "      <td>0</td>\n",
       "      <td>489.933333</td>\n",
       "    </tr>\n",
       "    <tr>\n",
       "      <th>13</th>\n",
       "      <td>2023-2836249</td>\n",
       "      <td>0</td>\n",
       "      <td>0</td>\n",
       "      <td>0</td>\n",
       "      <td>0</td>\n",
       "      <td>1</td>\n",
       "      <td>1</td>\n",
       "      <td>489.933333</td>\n",
       "    </tr>\n",
       "    <tr>\n",
       "      <th>14</th>\n",
       "      <td>2023-2846087</td>\n",
       "      <td>0</td>\n",
       "      <td>0</td>\n",
       "      <td>0</td>\n",
       "      <td>0</td>\n",
       "      <td>1</td>\n",
       "      <td>2</td>\n",
       "      <td>489.933333</td>\n",
       "    </tr>\n",
       "    <tr>\n",
       "      <th>15</th>\n",
       "      <td>2023-2846095</td>\n",
       "      <td>0</td>\n",
       "      <td>0</td>\n",
       "      <td>0</td>\n",
       "      <td>0</td>\n",
       "      <td>1</td>\n",
       "      <td>1</td>\n",
       "      <td>489.933333</td>\n",
       "    </tr>\n",
       "    <tr>\n",
       "      <th>16</th>\n",
       "      <td>2023-2846138</td>\n",
       "      <td>0</td>\n",
       "      <td>0</td>\n",
       "      <td>0</td>\n",
       "      <td>0</td>\n",
       "      <td>1</td>\n",
       "      <td>0</td>\n",
       "      <td>489.933333</td>\n",
       "    </tr>\n",
       "    <tr>\n",
       "      <th>17</th>\n",
       "      <td>2023-2846142</td>\n",
       "      <td>0</td>\n",
       "      <td>0</td>\n",
       "      <td>0</td>\n",
       "      <td>0</td>\n",
       "      <td>1</td>\n",
       "      <td>1</td>\n",
       "      <td>489.933333</td>\n",
       "    </tr>\n",
       "    <tr>\n",
       "      <th>18</th>\n",
       "      <td>2023-2846215</td>\n",
       "      <td>0</td>\n",
       "      <td>0</td>\n",
       "      <td>0</td>\n",
       "      <td>0</td>\n",
       "      <td>1</td>\n",
       "      <td>2</td>\n",
       "      <td>489.933333</td>\n",
       "    </tr>\n",
       "    <tr>\n",
       "      <th>19</th>\n",
       "      <td>2023-2846228</td>\n",
       "      <td>0</td>\n",
       "      <td>0</td>\n",
       "      <td>4</td>\n",
       "      <td>0</td>\n",
       "      <td>34</td>\n",
       "      <td>1</td>\n",
       "      <td>489.933333</td>\n",
       "    </tr>\n",
       "  </tbody>\n",
       "</table>\n",
       "</div>"
      ],
      "text/plain": [
       "             KNR  QTD_STATUS_1_NOK  QTD_STATUS_1_NOK  QTD_STATUS_2_NOK  \\\n",
       "0   2023-2316418                 2                 0               727   \n",
       "1   2023-2316419                 2                 0               714   \n",
       "2   2023-2816173                 0                 0                 0   \n",
       "3   2023-2826041                 0                 0                 0   \n",
       "4   2023-2826097                 0                 0                 0   \n",
       "5   2023-2826121                 0                 0                 0   \n",
       "6   2023-2826215                 0                 0                 0   \n",
       "7   2023-2826241                 0                 0                 0   \n",
       "8   2023-2826305                 0                 0                 0   \n",
       "9   2023-2836050                 0                 0                 6   \n",
       "10  2023-2836148                 0                 0                 4   \n",
       "11  2023-2836159                 0                 0                 0   \n",
       "12  2023-2836233                 0                 0                 0   \n",
       "13  2023-2836249                 0                 0                 0   \n",
       "14  2023-2846087                 0                 0                 0   \n",
       "15  2023-2846095                 0                 0                 0   \n",
       "16  2023-2846138                 0                 0                 0   \n",
       "17  2023-2846142                 0                 0                 0   \n",
       "18  2023-2846215                 0                 0                 0   \n",
       "19  2023-2846228                 0                 0                 4   \n",
       "\n",
       "    QTD_STATUS_2_NOK  QTD_STATUS_718_NOK  QTD_STATUS_718_NOK  TEMPO_MEDIO  \n",
       "0                  0                  32                   0          NaN  \n",
       "1                  4                  33                   0          NaN  \n",
       "2                  0                   1                   0          NaN  \n",
       "3                  0                   1                   0          NaN  \n",
       "4                  0                   1                   0          NaN  \n",
       "5                  0                   1                   4          NaN  \n",
       "6                  0                   1                   0          NaN  \n",
       "7                  0                   1                   0          NaN  \n",
       "8                  0                   1                   1   489.933333  \n",
       "9                  0                  33                   0   489.933333  \n",
       "10                 0                  33                   0   489.933333  \n",
       "11                 0                   1                   0   489.933333  \n",
       "12                 0                   1                   0   489.933333  \n",
       "13                 0                   1                   1   489.933333  \n",
       "14                 0                   1                   2   489.933333  \n",
       "15                 0                   1                   1   489.933333  \n",
       "16                 0                   1                   0   489.933333  \n",
       "17                 0                   1                   1   489.933333  \n",
       "18                 0                   1                   2   489.933333  \n",
       "19                 0                  34                   1   489.933333  "
      ]
     },
     "execution_count": 102,
     "metadata": {},
     "output_type": "execute_result"
    }
   ],
   "source": [
    "pivot_df.head(20)"
   ]
  },
  {
   "cell_type": "code",
   "execution_count": null,
   "id": "30040f9c-edc4-4a47-bffa-cc2cf57c251a",
   "metadata": {},
   "outputs": [],
   "source": []
  },
  {
   "cell_type": "markdown",
   "id": "3f20d7ba-4689-42dd-a3c6-089490692bc6",
   "metadata": {},
   "source": [
    "# Importando dados planilha 2 - 8 e 9"
   ]
  },
  {
   "cell_type": "code",
   "execution_count": 112,
   "id": "397fd996-6735-4985-95d2-8bab8f2b35f2",
   "metadata": {},
   "outputs": [],
   "source": [
    "df = pd.read_csv(\"../../../data/csv/p2_res_8_9.csv\", engine='pyarrow')"
   ]
  },
  {
   "cell_type": "code",
   "execution_count": 114,
   "id": "f261767f-1bf6-4a73-8490-9bdcf71f6281",
   "metadata": {},
   "outputs": [
    {
     "data": {
      "text/html": [
       "<div>\n",
       "<style scoped>\n",
       "    .dataframe tbody tr th:only-of-type {\n",
       "        vertical-align: middle;\n",
       "    }\n",
       "\n",
       "    .dataframe tbody tr th {\n",
       "        vertical-align: top;\n",
       "    }\n",
       "\n",
       "    .dataframe thead th {\n",
       "        text-align: right;\n",
       "    }\n",
       "</style>\n",
       "<table border=\"1\" class=\"dataframe\">\n",
       "  <thead>\n",
       "    <tr style=\"text-align: right;\">\n",
       "      <th></th>\n",
       "      <th>Unnamed: 0</th>\n",
       "      <th>2023-3016074</th>\n",
       "      <th>160200</th>\n",
       "      <th>2</th>\n",
       "      <th>10</th>\n",
       "      <th>Nm</th>\n",
       "      <th>0</th>\n",
       "      <th>14.15</th>\n",
       "      <th>2023-08-07 06:56:46</th>\n",
       "    </tr>\n",
       "  </thead>\n",
       "  <tbody>\n",
       "    <tr>\n",
       "      <th>0</th>\n",
       "      <td>NaN</td>\n",
       "      <td>2023-3016074</td>\n",
       "      <td>160800</td>\n",
       "      <td>2</td>\n",
       "      <td>10</td>\n",
       "      <td>Grad</td>\n",
       "      <td>1</td>\n",
       "      <td>40.00                                         ...</td>\n",
       "      <td>2023-08-07 06:24:39</td>\n",
       "    </tr>\n",
       "    <tr>\n",
       "      <th>1</th>\n",
       "      <td>NaN</td>\n",
       "      <td>2023-3016074</td>\n",
       "      <td>160800</td>\n",
       "      <td>2</td>\n",
       "      <td>10</td>\n",
       "      <td>Nm</td>\n",
       "      <td>0</td>\n",
       "      <td>35.17                                         ...</td>\n",
       "      <td>2023-08-07 06:24:39</td>\n",
       "    </tr>\n",
       "    <tr>\n",
       "      <th>2</th>\n",
       "      <td>NaN</td>\n",
       "      <td>2023-3016074</td>\n",
       "      <td>160900</td>\n",
       "      <td>2</td>\n",
       "      <td>10</td>\n",
       "      <td>Grad</td>\n",
       "      <td>1</td>\n",
       "      <td>46.00                                         ...</td>\n",
       "      <td>2023-08-07 06:24:43</td>\n",
       "    </tr>\n",
       "    <tr>\n",
       "      <th>3</th>\n",
       "      <td>NaN</td>\n",
       "      <td>2023-3016074</td>\n",
       "      <td>160900</td>\n",
       "      <td>2</td>\n",
       "      <td>10</td>\n",
       "      <td>Nm</td>\n",
       "      <td>0</td>\n",
       "      <td>35.70                                         ...</td>\n",
       "      <td>2023-08-07 06:24:43</td>\n",
       "    </tr>\n",
       "    <tr>\n",
       "      <th>4</th>\n",
       "      <td>NaN</td>\n",
       "      <td>2023-3016074</td>\n",
       "      <td>190100</td>\n",
       "      <td>2</td>\n",
       "      <td>10</td>\n",
       "      <td>Grad</td>\n",
       "      <td>1</td>\n",
       "      <td>109.6                                         ...</td>\n",
       "      <td>2023-08-07 07:17:42</td>\n",
       "    </tr>\n",
       "  </tbody>\n",
       "</table>\n",
       "</div>"
      ],
      "text/plain": [
       "   Unnamed: 0  2023-3016074  160200  2  10  Nm          0  \\\n",
       "0         NaN  2023-3016074  160800  2  10  Grad        1   \n",
       "1         NaN  2023-3016074  160800  2  10  Nm          0   \n",
       "2         NaN  2023-3016074  160900  2  10  Grad        1   \n",
       "3         NaN  2023-3016074  160900  2  10  Nm          0   \n",
       "4         NaN  2023-3016074  190100  2  10  Grad        1   \n",
       "\n",
       "  14.15                                              2023-08-07 06:56:46  \n",
       "0  40.00                                         ... 2023-08-07 06:24:39  \n",
       "1  35.17                                         ... 2023-08-07 06:24:39  \n",
       "2  46.00                                         ... 2023-08-07 06:24:43  \n",
       "3  35.70                                         ... 2023-08-07 06:24:43  \n",
       "4  109.6                                         ... 2023-08-07 07:17:42  "
      ]
     },
     "execution_count": 114,
     "metadata": {},
     "output_type": "execute_result"
    }
   ],
   "source": [
    "df.head()"
   ]
  },
  {
   "cell_type": "code",
   "execution_count": 105,
   "id": "531f9f6e-02d8-466e-a7f7-0ecf6f2556c0",
   "metadata": {
    "scrolled": true
   },
   "outputs": [],
   "source": [
    "df.drop(columns = 'Unnamed: 0', inplace=True)"
   ]
  },
  {
   "cell_type": "code",
   "execution_count": 106,
   "id": "3576bece-467a-4f79-b54e-1bd9c072c2fc",
   "metadata": {},
   "outputs": [],
   "source": [
    "df.columns = df.iloc[2]\n",
    "df.drop([0,1,2], axis = 0, inplace=True)"
   ]
  },
  {
   "cell_type": "code",
   "execution_count": 107,
   "id": "101a2aca-cc66-426d-9436-6c0e197acec0",
   "metadata": {},
   "outputs": [
    {
     "data": {
      "text/html": [
       "<div>\n",
       "<style scoped>\n",
       "    .dataframe tbody tr th:only-of-type {\n",
       "        vertical-align: middle;\n",
       "    }\n",
       "\n",
       "    .dataframe tbody tr th {\n",
       "        vertical-align: top;\n",
       "    }\n",
       "\n",
       "    .dataframe thead th {\n",
       "        text-align: right;\n",
       "    }\n",
       "</style>\n",
       "<table border=\"1\" class=\"dataframe\">\n",
       "  <thead>\n",
       "    <tr style=\"text-align: right;\">\n",
       "      <th>2</th>\n",
       "      <th>2023-3016074</th>\n",
       "      <th>160900</th>\n",
       "      <th>2</th>\n",
       "      <th>10</th>\n",
       "      <th>Grad</th>\n",
       "      <th>1</th>\n",
       "      <th>46.00</th>\n",
       "      <th>2023-08-07 06:24:43</th>\n",
       "    </tr>\n",
       "  </thead>\n",
       "  <tbody>\n",
       "    <tr>\n",
       "      <th>3</th>\n",
       "      <td>2023-3016074</td>\n",
       "      <td>160900</td>\n",
       "      <td>2</td>\n",
       "      <td>10</td>\n",
       "      <td>Nm</td>\n",
       "      <td>0</td>\n",
       "      <td>35.70                                         ...</td>\n",
       "      <td>2023-08-07 06:24:43</td>\n",
       "    </tr>\n",
       "    <tr>\n",
       "      <th>4</th>\n",
       "      <td>2023-3016074</td>\n",
       "      <td>190100</td>\n",
       "      <td>2</td>\n",
       "      <td>10</td>\n",
       "      <td>Grad</td>\n",
       "      <td>1</td>\n",
       "      <td>109.6                                         ...</td>\n",
       "      <td>2023-08-07 07:17:42</td>\n",
       "    </tr>\n",
       "    <tr>\n",
       "      <th>5</th>\n",
       "      <td>2023-3016074</td>\n",
       "      <td>190100</td>\n",
       "      <td>2</td>\n",
       "      <td>10</td>\n",
       "      <td>Nm</td>\n",
       "      <td>0</td>\n",
       "      <td>20.3                                          ...</td>\n",
       "      <td>2023-08-07 07:17:42</td>\n",
       "    </tr>\n",
       "    <tr>\n",
       "      <th>6</th>\n",
       "      <td>2023-3016074</td>\n",
       "      <td>190200</td>\n",
       "      <td>2</td>\n",
       "      <td>10</td>\n",
       "      <td>Grad</td>\n",
       "      <td>1</td>\n",
       "      <td>110.8                                         ...</td>\n",
       "      <td>2023-08-07 07:17:45</td>\n",
       "    </tr>\n",
       "    <tr>\n",
       "      <th>7</th>\n",
       "      <td>2023-3016074</td>\n",
       "      <td>190200</td>\n",
       "      <td>2</td>\n",
       "      <td>10</td>\n",
       "      <td>Nm</td>\n",
       "      <td>0</td>\n",
       "      <td>20.3                                          ...</td>\n",
       "      <td>2023-08-07 07:17:45</td>\n",
       "    </tr>\n",
       "  </tbody>\n",
       "</table>\n",
       "</div>"
      ],
      "text/plain": [
       "2  2023-3016074  160900  2  10  Grad        1  \\\n",
       "3  2023-3016074  160900  2  10  Nm          0   \n",
       "4  2023-3016074  190100  2  10  Grad        1   \n",
       "5  2023-3016074  190100  2  10  Nm          0   \n",
       "6  2023-3016074  190200  2  10  Grad        1   \n",
       "7  2023-3016074  190200  2  10  Nm          0   \n",
       "\n",
       "2 46.00                                              2023-08-07 06:24:43  \n",
       "3  35.70                                         ... 2023-08-07 06:24:43  \n",
       "4  109.6                                         ... 2023-08-07 07:17:42  \n",
       "5  20.3                                          ... 2023-08-07 07:17:42  \n",
       "6  110.8                                         ... 2023-08-07 07:17:45  \n",
       "7  20.3                                          ... 2023-08-07 07:17:45  "
      ]
     },
     "execution_count": 107,
     "metadata": {},
     "output_type": "execute_result"
    }
   ],
   "source": [
    "df.head()"
   ]
  },
  {
   "cell_type": "code",
   "execution_count": 108,
   "id": "d24e7ec9-da28-4a4c-a743-8164b13367e8",
   "metadata": {},
   "outputs": [
    {
     "name": "stdout",
     "output_type": "stream",
     "text": [
      "Columns: ['2023-3016074', '160900', 2, 10, 'Grad      ', '1', '46.00                                             ', Timestamp('2023-08-07 06:24:43')]\n"
     ]
    }
   ],
   "source": [
    "columns = df.columns.tolist()\n",
    "print(\"Columns:\", columns)"
   ]
  },
  {
   "cell_type": "markdown",
   "id": "1afec1e1-fc38-4838-adff-81800f044586",
   "metadata": {},
   "source": [
    "## Tirando coluna vazia"
   ]
  },
  {
   "cell_type": "code",
   "execution_count": 109,
   "id": "8fe7a394-db52-427d-875f-7602aa3df6a3",
   "metadata": {},
   "outputs": [],
   "source": [
    "df = df.drop_duplicates()"
   ]
  },
  {
   "cell_type": "markdown",
   "id": "876eb0a3-ed28-4e2b-9981-fd83d6a5cb0a",
   "metadata": {},
   "source": [
    "## Removendo nulos"
   ]
  },
  {
   "cell_type": "code",
   "execution_count": 110,
   "id": "d4bb22be-f8e4-41b9-8bad-19bb83c1a843",
   "metadata": {},
   "outputs": [],
   "source": [
    "df = df.dropna()"
   ]
  },
  {
   "cell_type": "markdown",
   "id": "eeaa2736-cd49-48a7-bd9a-277e7e60ad0c",
   "metadata": {},
   "source": [
    "## Convertendo data de object pra datetime"
   ]
  },
  {
   "cell_type": "code",
   "execution_count": 111,
   "id": "ee40c7f0-1b6a-4401-b2f8-7d54a6885476",
   "metadata": {},
   "outputs": [
    {
     "ename": "KeyError",
     "evalue": "'DATA'",
     "output_type": "error",
     "traceback": [
      "\u001b[1;31m---------------------------------------------------------------------------\u001b[0m",
      "\u001b[1;31mKeyError\u001b[0m                                  Traceback (most recent call last)",
      "File \u001b[1;32m~\\Documents\\GitHub\\MOD_7_PROG\\aula_3_ARIMA\\venv\\Lib\\site-packages\\pandas\\core\\indexes\\base.py:3805\u001b[0m, in \u001b[0;36mIndex.get_loc\u001b[1;34m(self, key)\u001b[0m\n\u001b[0;32m   3804\u001b[0m \u001b[38;5;28;01mtry\u001b[39;00m:\n\u001b[1;32m-> 3805\u001b[0m     \u001b[38;5;28;01mreturn\u001b[39;00m \u001b[38;5;28;43mself\u001b[39;49m\u001b[38;5;241;43m.\u001b[39;49m\u001b[43m_engine\u001b[49m\u001b[38;5;241;43m.\u001b[39;49m\u001b[43mget_loc\u001b[49m\u001b[43m(\u001b[49m\u001b[43mcasted_key\u001b[49m\u001b[43m)\u001b[49m\n\u001b[0;32m   3806\u001b[0m \u001b[38;5;28;01mexcept\u001b[39;00m \u001b[38;5;167;01mKeyError\u001b[39;00m \u001b[38;5;28;01mas\u001b[39;00m err:\n",
      "File \u001b[1;32mindex.pyx:167\u001b[0m, in \u001b[0;36mpandas._libs.index.IndexEngine.get_loc\u001b[1;34m()\u001b[0m\n",
      "File \u001b[1;32mindex.pyx:196\u001b[0m, in \u001b[0;36mpandas._libs.index.IndexEngine.get_loc\u001b[1;34m()\u001b[0m\n",
      "File \u001b[1;32mpandas\\\\_libs\\\\hashtable_class_helper.pxi:7081\u001b[0m, in \u001b[0;36mpandas._libs.hashtable.PyObjectHashTable.get_item\u001b[1;34m()\u001b[0m\n",
      "File \u001b[1;32mpandas\\\\_libs\\\\hashtable_class_helper.pxi:7089\u001b[0m, in \u001b[0;36mpandas._libs.hashtable.PyObjectHashTable.get_item\u001b[1;34m()\u001b[0m\n",
      "\u001b[1;31mKeyError\u001b[0m: 'DATA'",
      "\nThe above exception was the direct cause of the following exception:\n",
      "\u001b[1;31mKeyError\u001b[0m                                  Traceback (most recent call last)",
      "Cell \u001b[1;32mIn[111], line 1\u001b[0m\n\u001b[1;32m----> 1\u001b[0m df[\u001b[38;5;124m'\u001b[39m\u001b[38;5;124mDATA\u001b[39m\u001b[38;5;124m'\u001b[39m] \u001b[38;5;241m=\u001b[39m pd\u001b[38;5;241m.\u001b[39mto_datetime(\u001b[43mdf\u001b[49m\u001b[43m[\u001b[49m\u001b[38;5;124;43m'\u001b[39;49m\u001b[38;5;124;43mDATA\u001b[39;49m\u001b[38;5;124;43m'\u001b[39;49m\u001b[43m]\u001b[49m, errors\u001b[38;5;241m=\u001b[39m\u001b[38;5;124m'\u001b[39m\u001b[38;5;124mcoerce\u001b[39m\u001b[38;5;124m'\u001b[39m)\n",
      "File \u001b[1;32m~\\Documents\\GitHub\\MOD_7_PROG\\aula_3_ARIMA\\venv\\Lib\\site-packages\\pandas\\core\\frame.py:4102\u001b[0m, in \u001b[0;36mDataFrame.__getitem__\u001b[1;34m(self, key)\u001b[0m\n\u001b[0;32m   4100\u001b[0m \u001b[38;5;28;01mif\u001b[39;00m \u001b[38;5;28mself\u001b[39m\u001b[38;5;241m.\u001b[39mcolumns\u001b[38;5;241m.\u001b[39mnlevels \u001b[38;5;241m>\u001b[39m \u001b[38;5;241m1\u001b[39m:\n\u001b[0;32m   4101\u001b[0m     \u001b[38;5;28;01mreturn\u001b[39;00m \u001b[38;5;28mself\u001b[39m\u001b[38;5;241m.\u001b[39m_getitem_multilevel(key)\n\u001b[1;32m-> 4102\u001b[0m indexer \u001b[38;5;241m=\u001b[39m \u001b[38;5;28;43mself\u001b[39;49m\u001b[38;5;241;43m.\u001b[39;49m\u001b[43mcolumns\u001b[49m\u001b[38;5;241;43m.\u001b[39;49m\u001b[43mget_loc\u001b[49m\u001b[43m(\u001b[49m\u001b[43mkey\u001b[49m\u001b[43m)\u001b[49m\n\u001b[0;32m   4103\u001b[0m \u001b[38;5;28;01mif\u001b[39;00m is_integer(indexer):\n\u001b[0;32m   4104\u001b[0m     indexer \u001b[38;5;241m=\u001b[39m [indexer]\n",
      "File \u001b[1;32m~\\Documents\\GitHub\\MOD_7_PROG\\aula_3_ARIMA\\venv\\Lib\\site-packages\\pandas\\core\\indexes\\base.py:3812\u001b[0m, in \u001b[0;36mIndex.get_loc\u001b[1;34m(self, key)\u001b[0m\n\u001b[0;32m   3807\u001b[0m     \u001b[38;5;28;01mif\u001b[39;00m \u001b[38;5;28misinstance\u001b[39m(casted_key, \u001b[38;5;28mslice\u001b[39m) \u001b[38;5;129;01mor\u001b[39;00m (\n\u001b[0;32m   3808\u001b[0m         \u001b[38;5;28misinstance\u001b[39m(casted_key, abc\u001b[38;5;241m.\u001b[39mIterable)\n\u001b[0;32m   3809\u001b[0m         \u001b[38;5;129;01mand\u001b[39;00m \u001b[38;5;28many\u001b[39m(\u001b[38;5;28misinstance\u001b[39m(x, \u001b[38;5;28mslice\u001b[39m) \u001b[38;5;28;01mfor\u001b[39;00m x \u001b[38;5;129;01min\u001b[39;00m casted_key)\n\u001b[0;32m   3810\u001b[0m     ):\n\u001b[0;32m   3811\u001b[0m         \u001b[38;5;28;01mraise\u001b[39;00m InvalidIndexError(key)\n\u001b[1;32m-> 3812\u001b[0m     \u001b[38;5;28;01mraise\u001b[39;00m \u001b[38;5;167;01mKeyError\u001b[39;00m(key) \u001b[38;5;28;01mfrom\u001b[39;00m \u001b[38;5;21;01merr\u001b[39;00m\n\u001b[0;32m   3813\u001b[0m \u001b[38;5;28;01mexcept\u001b[39;00m \u001b[38;5;167;01mTypeError\u001b[39;00m:\n\u001b[0;32m   3814\u001b[0m     \u001b[38;5;66;03m# If we have a listlike key, _check_indexing_error will raise\u001b[39;00m\n\u001b[0;32m   3815\u001b[0m     \u001b[38;5;66;03m#  InvalidIndexError. Otherwise we fall through and re-raise\u001b[39;00m\n\u001b[0;32m   3816\u001b[0m     \u001b[38;5;66;03m#  the TypeError.\u001b[39;00m\n\u001b[0;32m   3817\u001b[0m     \u001b[38;5;28mself\u001b[39m\u001b[38;5;241m.\u001b[39m_check_indexing_error(key)\n",
      "\u001b[1;31mKeyError\u001b[0m: 'DATA'"
     ]
    }
   ],
   "source": [
    "df['DATA'] = pd.to_datetime(df['DATA'], errors='coerce')"
   ]
  },
  {
   "cell_type": "markdown",
   "id": "15041bca-b915-43ec-a481-8d7fc44bc993",
   "metadata": {},
   "source": [
    "## Criando as colunas por status e por id"
   ]
  },
  {
   "cell_type": "code",
   "execution_count": null,
   "id": "44b06d19-a48f-4c50-8627-07526cefa293",
   "metadata": {},
   "outputs": [],
   "source": [
    "pivot_df = df.pivot_table(index='KNR', columns=[\"ID\", \"STATUS\"], aggfunc='size', fill_value=0)\n",
    "\n",
    "pivot_df.columns = [f'QTD_STATUS_{col[0]}_OK' if col[1]== 10 else f'QTD_STATUS_{col[0]}_NOK' for col in pivot_df.columns]\n",
    "\n",
    "pivot_df.reset_index(inplace=True)"
   ]
  },
  {
   "cell_type": "markdown",
   "id": "73f694a2-2d08-4223-8a22-c35070d03552",
   "metadata": {},
   "source": [
    "## Criando coluna de quantidade de operações por KNR, que, no caso, também é a soma dos status de cada resultado"
   ]
  },
  {
   "cell_type": "code",
   "execution_count": null,
   "id": "2d9ebd21-9c0e-483e-8d5a-06f575890bec",
   "metadata": {},
   "outputs": [],
   "source": [
    "pivot_df[\"TEMPO_MEDIO\"] = df.groupby('KNR').DATA.transform('max') - df.groupby('KNR').DATA.transform('min')"
   ]
  },
  {
   "cell_type": "markdown",
   "id": "3d82368c-1368-44e7-a45a-6a907d3f8ab8",
   "metadata": {},
   "source": [
    "## Transformando tempo em minutos"
   ]
  },
  {
   "cell_type": "code",
   "execution_count": null,
   "id": "517e393d-a2f6-4cd2-b230-2962297a6df3",
   "metadata": {},
   "outputs": [],
   "source": [
    "pivot_df[\"TEMPO_MEDIO\"] = pivot_df[\"TEMPO_MEDIO\"].dt.total_seconds()/60"
   ]
  },
  {
   "cell_type": "code",
   "execution_count": null,
   "id": "5b0334dc-dc86-4908-a819-c182e74b2c33",
   "metadata": {},
   "outputs": [],
   "source": [
    "pivot_df.head(20)"
   ]
  },
  {
   "cell_type": "code",
   "execution_count": null,
   "id": "bf34edc7-2e5e-4872-899c-f330e9b7b302",
   "metadata": {},
   "outputs": [],
   "source": []
  },
  {
   "cell_type": "markdown",
   "id": "95eadd35-6a7f-47be-b204-1cd5108608df",
   "metadata": {},
   "source": [
    "# Importando dados planilha 3 - 8 e 9"
   ]
  },
  {
   "cell_type": "code",
   "execution_count": 115,
   "id": "f347905b-4285-4bba-937d-cb3d37701cae",
   "metadata": {},
   "outputs": [],
   "source": [
    "df = pd.read_csv(\"../../../data/csv/p3_res_8_9.csv\", engine='pyarrow')"
   ]
  },
  {
   "cell_type": "code",
   "execution_count": 116,
   "id": "e7c89338-5200-4a5c-acb6-b8bf4a2ce806",
   "metadata": {},
   "outputs": [
    {
     "data": {
      "text/html": [
       "<div>\n",
       "<style scoped>\n",
       "    .dataframe tbody tr th:only-of-type {\n",
       "        vertical-align: middle;\n",
       "    }\n",
       "\n",
       "    .dataframe tbody tr th {\n",
       "        vertical-align: top;\n",
       "    }\n",
       "\n",
       "    .dataframe thead th {\n",
       "        text-align: right;\n",
       "    }\n",
       "</style>\n",
       "<table border=\"1\" class=\"dataframe\">\n",
       "  <thead>\n",
       "    <tr style=\"text-align: right;\">\n",
       "      <th></th>\n",
       "      <th>Unnamed: 0</th>\n",
       "      <th>2023-3056065</th>\n",
       "      <th>263000</th>\n",
       "      <th>2</th>\n",
       "      <th>10</th>\n",
       "      <th>Nm</th>\n",
       "      <th>0</th>\n",
       "      <th>14.28</th>\n",
       "      <th>2023-08-11 10:28:44</th>\n",
       "    </tr>\n",
       "  </thead>\n",
       "  <tbody>\n",
       "    <tr>\n",
       "      <th>0</th>\n",
       "      <td>NaN</td>\n",
       "      <td>2023-3056065</td>\n",
       "      <td>270500</td>\n",
       "      <td>2</td>\n",
       "      <td>10</td>\n",
       "      <td>Grad</td>\n",
       "      <td>1</td>\n",
       "      <td>19.00                                         ...</td>\n",
       "      <td>2023-08-11 12:48:39</td>\n",
       "    </tr>\n",
       "    <tr>\n",
       "      <th>1</th>\n",
       "      <td>NaN</td>\n",
       "      <td>2023-3056065</td>\n",
       "      <td>270500</td>\n",
       "      <td>2</td>\n",
       "      <td>10</td>\n",
       "      <td>Nm</td>\n",
       "      <td>0</td>\n",
       "      <td>20.29                                         ...</td>\n",
       "      <td>2023-08-11 12:48:39</td>\n",
       "    </tr>\n",
       "    <tr>\n",
       "      <th>2</th>\n",
       "      <td>NaN</td>\n",
       "      <td>2023-3056065</td>\n",
       "      <td>272500</td>\n",
       "      <td>2</td>\n",
       "      <td>10</td>\n",
       "      <td>Grad</td>\n",
       "      <td>1</td>\n",
       "      <td>202.00                                        ...</td>\n",
       "      <td>2023-08-11 14:11:00</td>\n",
       "    </tr>\n",
       "    <tr>\n",
       "      <th>3</th>\n",
       "      <td>NaN</td>\n",
       "      <td>2023-3056065</td>\n",
       "      <td>272500</td>\n",
       "      <td>2</td>\n",
       "      <td>10</td>\n",
       "      <td>Nm</td>\n",
       "      <td>0</td>\n",
       "      <td>6.09                                          ...</td>\n",
       "      <td>2023-08-11 14:11:00</td>\n",
       "    </tr>\n",
       "    <tr>\n",
       "      <th>4</th>\n",
       "      <td>NaN</td>\n",
       "      <td>2023-3056065</td>\n",
       "      <td>272700</td>\n",
       "      <td>2</td>\n",
       "      <td>10</td>\n",
       "      <td>Grad</td>\n",
       "      <td>1</td>\n",
       "      <td>153.00                                        ...</td>\n",
       "      <td>2023-08-11 14:10:50</td>\n",
       "    </tr>\n",
       "  </tbody>\n",
       "</table>\n",
       "</div>"
      ],
      "text/plain": [
       "   Unnamed: 0  2023-3056065  263000  2  10  Nm          0  \\\n",
       "0         NaN  2023-3056065  270500  2  10  Grad        1   \n",
       "1         NaN  2023-3056065  270500  2  10  Nm          0   \n",
       "2         NaN  2023-3056065  272500  2  10  Grad        1   \n",
       "3         NaN  2023-3056065  272500  2  10  Nm          0   \n",
       "4         NaN  2023-3056065  272700  2  10  Grad        1   \n",
       "\n",
       "  14.28                                              2023-08-11 10:28:44  \n",
       "0  19.00                                         ... 2023-08-11 12:48:39  \n",
       "1  20.29                                         ... 2023-08-11 12:48:39  \n",
       "2  202.00                                        ... 2023-08-11 14:11:00  \n",
       "3  6.09                                          ... 2023-08-11 14:11:00  \n",
       "4  153.00                                        ... 2023-08-11 14:10:50  "
      ]
     },
     "execution_count": 116,
     "metadata": {},
     "output_type": "execute_result"
    }
   ],
   "source": [
    "df.head()"
   ]
  },
  {
   "cell_type": "code",
   "execution_count": null,
   "id": "5c43eb91-5333-4090-bbe2-0613288121dd",
   "metadata": {
    "scrolled": true
   },
   "outputs": [],
   "source": [
    "df.drop(columns = 'Unnamed: 0', inplace=True)"
   ]
  },
  {
   "cell_type": "code",
   "execution_count": null,
   "id": "dfbfc045-51b7-45d8-8b63-84f001e3e273",
   "metadata": {},
   "outputs": [],
   "source": [
    "df.columns = df.iloc[2]\n",
    "df.drop([0,1,2], axis = 0, inplace=True)"
   ]
  },
  {
   "cell_type": "code",
   "execution_count": null,
   "id": "4d1c65ce-878a-4d8d-af72-7124623bb210",
   "metadata": {},
   "outputs": [],
   "source": [
    "df.head()"
   ]
  },
  {
   "cell_type": "code",
   "execution_count": null,
   "id": "99c370da-0e77-4d08-9b92-93d4f3089182",
   "metadata": {},
   "outputs": [],
   "source": [
    "columns = df.columns.tolist()\n",
    "print(\"Columns:\", columns)"
   ]
  },
  {
   "cell_type": "markdown",
   "id": "f4cb5c84-f33f-4153-b3ad-e9529fbbeee6",
   "metadata": {},
   "source": [
    "## Tirando coluna vazia"
   ]
  },
  {
   "cell_type": "code",
   "execution_count": null,
   "id": "79604eab-ef31-435a-870d-8a774315ae28",
   "metadata": {},
   "outputs": [],
   "source": [
    "df = df.drop_duplicates()"
   ]
  },
  {
   "cell_type": "markdown",
   "id": "c4a4e526-ccf7-418c-8b15-d3e1b13b03e5",
   "metadata": {},
   "source": [
    "## Removendo nulos"
   ]
  },
  {
   "cell_type": "code",
   "execution_count": null,
   "id": "d58ef1e7-705a-4e82-b668-a3865c018d32",
   "metadata": {},
   "outputs": [],
   "source": [
    "df = df.dropna()"
   ]
  },
  {
   "cell_type": "markdown",
   "id": "3d0da6d5-080f-40b6-a784-dbb7b42c6075",
   "metadata": {},
   "source": [
    "## Convertendo data de object pra datetime"
   ]
  },
  {
   "cell_type": "code",
   "execution_count": null,
   "id": "49594821-5bb5-4c09-831e-faffe8eaac9e",
   "metadata": {},
   "outputs": [],
   "source": [
    "df['DATA'] = pd.to_datetime(df['DATA'], errors='coerce')"
   ]
  },
  {
   "cell_type": "markdown",
   "id": "c2b58403-ff45-4fe7-8624-ed8061f6edb3",
   "metadata": {},
   "source": [
    "## Criando as colunas por status e por id"
   ]
  },
  {
   "cell_type": "code",
   "execution_count": null,
   "id": "ef6a2238-279e-4dcb-b5e0-7a9da065fb08",
   "metadata": {},
   "outputs": [],
   "source": [
    "pivot_df = df.pivot_table(index='KNR', columns=[\"ID\", \"STATUS\"], aggfunc='size', fill_value=0)\n",
    "\n",
    "pivot_df.columns = [f'QTD_STATUS_{col[0]}_OK' if col[1]== 10 else f'QTD_STATUS_{col[0]}_NOK' for col in pivot_df.columns]\n",
    "\n",
    "pivot_df.reset_index(inplace=True)"
   ]
  },
  {
   "cell_type": "markdown",
   "id": "149b1b8c-ee62-4d02-aefa-b52b568ea078",
   "metadata": {},
   "source": [
    "## Criando coluna de quantidade de operações por KNR, que, no caso, também é a soma dos status de cada resultado"
   ]
  },
  {
   "cell_type": "code",
   "execution_count": null,
   "id": "e0c82380-8732-4d31-9da0-0ad4e7fa15e4",
   "metadata": {},
   "outputs": [],
   "source": [
    "pivot_df[\"TEMPO_MEDIO\"] = df.groupby('KNR').DATA.transform('max') - df.groupby('KNR').DATA.transform('min')"
   ]
  },
  {
   "cell_type": "markdown",
   "id": "8e50045e-3025-4dbd-b91b-e93ff7f2f271",
   "metadata": {},
   "source": [
    "## Transformando tempo em minutos"
   ]
  },
  {
   "cell_type": "code",
   "execution_count": null,
   "id": "d5ace0f2-e6ee-4fc9-bbaf-e4522c6ba386",
   "metadata": {},
   "outputs": [],
   "source": [
    "pivot_df[\"TEMPO_MEDIO\"] = pivot_df[\"TEMPO_MEDIO\"].dt.total_seconds()/60"
   ]
  },
  {
   "cell_type": "code",
   "execution_count": null,
   "id": "dcf87113-8be0-459f-979a-86df7910e586",
   "metadata": {},
   "outputs": [],
   "source": [
    "pivot_df.head(20)"
   ]
  },
  {
   "cell_type": "code",
   "execution_count": null,
   "id": "8f55620d-4345-440d-ae43-3ae9121c1176",
   "metadata": {},
   "outputs": [],
   "source": []
  },
  {
   "cell_type": "markdown",
   "id": "fe0cc198-43c4-44e2-9b29-51b94269dd83",
   "metadata": {},
   "source": [
    "# Importando dados planilha 4 - 8 e 9"
   ]
  },
  {
   "cell_type": "code",
   "execution_count": null,
   "id": "8eb4ba02-88a0-42ac-931e-6ae8b7528e0c",
   "metadata": {},
   "outputs": [],
   "source": [
    "df = pd.read_csv(\"../../../data/csv/p4_res_8_9.csv\", engine='pyarrow')"
   ]
  },
  {
   "cell_type": "code",
   "execution_count": null,
   "id": "0e578f11-c010-47d5-87d7-eaefd423e0b6",
   "metadata": {},
   "outputs": [],
   "source": [
    "df.head()"
   ]
  },
  {
   "cell_type": "code",
   "execution_count": null,
   "id": "7fe5d125-af7b-4764-a340-be9fca3cd10f",
   "metadata": {
    "scrolled": true
   },
   "outputs": [],
   "source": [
    "df.drop(columns = 'Unnamed: 0', inplace=True)"
   ]
  },
  {
   "cell_type": "code",
   "execution_count": null,
   "id": "ffd71db7-95ca-477c-b0a5-b5678d38bf24",
   "metadata": {},
   "outputs": [],
   "source": [
    "df.columns = df.iloc[2]\n",
    "df.drop([0,1,2], axis = 0, inplace=True)"
   ]
  },
  {
   "cell_type": "code",
   "execution_count": null,
   "id": "da78b682-8330-499d-9d60-5a7f99d471ab",
   "metadata": {},
   "outputs": [],
   "source": [
    "df.head()"
   ]
  },
  {
   "cell_type": "code",
   "execution_count": null,
   "id": "0546a56d-5382-484a-a0a5-d1681d14c55b",
   "metadata": {},
   "outputs": [],
   "source": [
    "columns = df.columns.tolist()\n",
    "print(\"Columns:\", columns)"
   ]
  },
  {
   "cell_type": "markdown",
   "id": "db9d6ab2-2a66-467e-a652-81d2fdcf45d3",
   "metadata": {},
   "source": [
    "## Tirando coluna vazia"
   ]
  },
  {
   "cell_type": "code",
   "execution_count": null,
   "id": "4d1b20e5-5faa-481c-8894-144b30ac9488",
   "metadata": {},
   "outputs": [],
   "source": [
    "df = df.drop_duplicates()"
   ]
  },
  {
   "cell_type": "markdown",
   "id": "e99398bf-0ae1-4e02-920c-8ac560f49025",
   "metadata": {},
   "source": [
    "## Removendo nulos"
   ]
  },
  {
   "cell_type": "code",
   "execution_count": null,
   "id": "a2d47de1-9c2d-4e6e-9638-344aa4e31cac",
   "metadata": {},
   "outputs": [],
   "source": [
    "df = df.dropna()"
   ]
  },
  {
   "cell_type": "markdown",
   "id": "09f7efc4-e841-4d29-9960-8b3c579fd2ef",
   "metadata": {},
   "source": [
    "## Convertendo data de object pra datetime"
   ]
  },
  {
   "cell_type": "code",
   "execution_count": null,
   "id": "adcbb55a-7b13-44d4-83b7-64e8c3f925fd",
   "metadata": {},
   "outputs": [],
   "source": [
    "df['DATA'] = pd.to_datetime(df['DATA'], errors='coerce')"
   ]
  },
  {
   "cell_type": "markdown",
   "id": "3ea9e25b-9030-47d1-b0a3-2e82a99e945a",
   "metadata": {},
   "source": [
    "## Criando as colunas por status e por id"
   ]
  },
  {
   "cell_type": "code",
   "execution_count": null,
   "id": "64ab9912-c857-4122-a576-fb36debd7438",
   "metadata": {},
   "outputs": [],
   "source": [
    "pivot_df = df.pivot_table(index='KNR', columns=[\"ID\", \"STATUS\"], aggfunc='size', fill_value=0)\n",
    "\n",
    "pivot_df.columns = [f'QTD_STATUS_{col[0]}_OK' if col[1]== 10 else f'QTD_STATUS_{col[0]}_NOK' for col in pivot_df.columns]\n",
    "\n",
    "pivot_df.reset_index(inplace=True)"
   ]
  },
  {
   "cell_type": "markdown",
   "id": "04d96ab6-2c31-4d6e-871d-ca3452567ed1",
   "metadata": {},
   "source": [
    "## Criando coluna de quantidade de operações por KNR, que, no caso, também é a soma dos status de cada resultado"
   ]
  },
  {
   "cell_type": "code",
   "execution_count": null,
   "id": "c4887205-b809-48f0-b065-bc8f5ed5693a",
   "metadata": {},
   "outputs": [],
   "source": [
    "pivot_df[\"TEMPO_MEDIO\"] = df.groupby('KNR').DATA.transform('max') - df.groupby('KNR').DATA.transform('min')"
   ]
  },
  {
   "cell_type": "markdown",
   "id": "3769c1b2-e26e-40af-844f-d39b6154a767",
   "metadata": {},
   "source": [
    "## Transformando tempo em minutos"
   ]
  },
  {
   "cell_type": "code",
   "execution_count": null,
   "id": "36f07795-230f-4550-8f6e-4b672fe05cd2",
   "metadata": {},
   "outputs": [],
   "source": [
    "pivot_df[\"TEMPO_MEDIO\"] = pivot_df[\"TEMPO_MEDIO\"].dt.total_seconds()/60"
   ]
  },
  {
   "cell_type": "code",
   "execution_count": null,
   "id": "ae98b34c-8355-48b5-a618-ab4ffb2052f6",
   "metadata": {},
   "outputs": [],
   "source": [
    "pivot_df.head(20)"
   ]
  },
  {
   "cell_type": "code",
   "execution_count": null,
   "id": "e3916713-8367-4a1e-9b77-79939a0dc30b",
   "metadata": {},
   "outputs": [],
   "source": []
  },
  {
   "cell_type": "markdown",
   "id": "77153df3-8668-4e4f-a76f-436344038e52",
   "metadata": {},
   "source": [
    "# Importando dados planilha 5 - 8 e 9"
   ]
  },
  {
   "cell_type": "code",
   "execution_count": null,
   "id": "5cca6c2b-bf7b-4188-b7c4-c74acb3fae5d",
   "metadata": {},
   "outputs": [],
   "source": [
    "df = pd.read_csv(\"../../../data/csv/p5_res_8_9.csv\", engine='pyarrow')"
   ]
  },
  {
   "cell_type": "code",
   "execution_count": null,
   "id": "105b35c6-f62a-449c-8f4f-b8e9aaffd76e",
   "metadata": {},
   "outputs": [],
   "source": [
    "df.head()"
   ]
  },
  {
   "cell_type": "code",
   "execution_count": null,
   "id": "469ebfb6-bfe5-4f2a-ba08-5b9289f90d23",
   "metadata": {
    "scrolled": true
   },
   "outputs": [],
   "source": [
    "df.drop(columns = 'Unnamed: 0', inplace=True)"
   ]
  },
  {
   "cell_type": "code",
   "execution_count": null,
   "id": "7c664600-69bf-421c-9643-233365e5480e",
   "metadata": {},
   "outputs": [],
   "source": [
    "df.columns = df.iloc[2]\n",
    "df.drop([0,1,2], axis = 0, inplace=True)"
   ]
  },
  {
   "cell_type": "code",
   "execution_count": null,
   "id": "0afd0362-da21-4168-ac52-06ab4cc80814",
   "metadata": {},
   "outputs": [],
   "source": [
    "df.head()"
   ]
  },
  {
   "cell_type": "code",
   "execution_count": null,
   "id": "3c95825e-cd59-4b21-8491-ea48cbc2b97c",
   "metadata": {},
   "outputs": [],
   "source": [
    "columns = df.columns.tolist()\n",
    "print(\"Columns:\", columns)"
   ]
  },
  {
   "cell_type": "markdown",
   "id": "755b22d3-4fc5-4a29-8fb6-4c7aff429225",
   "metadata": {},
   "source": [
    "## Tirando coluna vazia"
   ]
  },
  {
   "cell_type": "code",
   "execution_count": null,
   "id": "78800339-f6a1-421e-bbb7-c9a3733c5f87",
   "metadata": {},
   "outputs": [],
   "source": [
    "df = df.drop_duplicates()"
   ]
  },
  {
   "cell_type": "markdown",
   "id": "3d5a82b2-331c-47f2-b1d1-9ca6b6a147b3",
   "metadata": {},
   "source": [
    "## Removendo nulos"
   ]
  },
  {
   "cell_type": "code",
   "execution_count": null,
   "id": "64a65542-c651-4934-90a9-8a8e483e73ea",
   "metadata": {},
   "outputs": [],
   "source": [
    "df = df.dropna()"
   ]
  },
  {
   "cell_type": "markdown",
   "id": "f68247be-0bb5-4670-b250-0c363f56578a",
   "metadata": {},
   "source": [
    "## Convertendo data de object pra datetime"
   ]
  },
  {
   "cell_type": "code",
   "execution_count": null,
   "id": "5b1ae91d-8bd0-4a70-aa66-e977f0f711d7",
   "metadata": {},
   "outputs": [],
   "source": [
    "df['DATA'] = pd.to_datetime(df['DATA'], errors='coerce')"
   ]
  },
  {
   "cell_type": "markdown",
   "id": "a63524bd-a319-458d-95ec-5a9c59d923b7",
   "metadata": {},
   "source": [
    "## Criando as colunas por status e por id"
   ]
  },
  {
   "cell_type": "code",
   "execution_count": null,
   "id": "1751e1a0-fa07-4019-b244-6b685bf68a68",
   "metadata": {},
   "outputs": [],
   "source": [
    "pivot_df = df.pivot_table(index='KNR', columns=[\"ID\", \"STATUS\"], aggfunc='size', fill_value=0)\n",
    "\n",
    "pivot_df.columns = [f'QTD_STATUS_{col[0]}_OK' if col[1]== 10 else f'QTD_STATUS_{col[0]}_NOK' for col in pivot_df.columns]\n",
    "\n",
    "pivot_df.reset_index(inplace=True)"
   ]
  },
  {
   "cell_type": "markdown",
   "id": "643b324a-aa1a-4331-b609-a763ef1fe47b",
   "metadata": {},
   "source": [
    "## Criando coluna de quantidade de operações por KNR, que, no caso, também é a soma dos status de cada resultado"
   ]
  },
  {
   "cell_type": "code",
   "execution_count": null,
   "id": "9c260975-1440-4693-bf32-1562450c3ab5",
   "metadata": {},
   "outputs": [],
   "source": [
    "pivot_df[\"TEMPO_MEDIO\"] = df.groupby('KNR').DATA.transform('max') - df.groupby('KNR').DATA.transform('min')"
   ]
  },
  {
   "cell_type": "markdown",
   "id": "a1bdc3d0-10fd-449e-914b-55c82535b164",
   "metadata": {},
   "source": [
    "## Transformando tempo em minutos"
   ]
  },
  {
   "cell_type": "code",
   "execution_count": null,
   "id": "fdc88b2e-e2be-4c12-9595-70c320888e36",
   "metadata": {},
   "outputs": [],
   "source": [
    "pivot_df[\"TEMPO_MEDIO\"] = pivot_df[\"TEMPO_MEDIO\"].dt.total_seconds()/60"
   ]
  },
  {
   "cell_type": "code",
   "execution_count": null,
   "id": "c12b8506-6b01-4953-ac7b-e00634ec357d",
   "metadata": {},
   "outputs": [],
   "source": [
    "pivot_df.head(20)"
   ]
  },
  {
   "cell_type": "code",
   "execution_count": null,
   "id": "8378986c-50d9-4910-9b26-6f9cde3a7371",
   "metadata": {},
   "outputs": [],
   "source": []
  },
  {
   "cell_type": "markdown",
   "id": "d95fe725-7e3c-4c57-a9ff-2db2beb7391d",
   "metadata": {},
   "source": [
    "# Importando dados planilha 6 - 8 e 9"
   ]
  },
  {
   "cell_type": "code",
   "execution_count": null,
   "id": "8e0f503e-9b7f-4763-94d6-041b203dc5dc",
   "metadata": {},
   "outputs": [],
   "source": [
    "df = pd.read_csv(\"../../../data/csv/p6_res_8_9.csv\", engine='pyarrow')"
   ]
  },
  {
   "cell_type": "code",
   "execution_count": null,
   "id": "ecb46408-e383-49a4-b7b8-c6bd61652a6d",
   "metadata": {},
   "outputs": [],
   "source": [
    "df.head()"
   ]
  },
  {
   "cell_type": "code",
   "execution_count": null,
   "id": "13015751-49d0-46f2-b499-88109cf9f572",
   "metadata": {
    "scrolled": true
   },
   "outputs": [],
   "source": [
    "df.drop(columns = 'Unnamed: 0', inplace=True)"
   ]
  },
  {
   "cell_type": "code",
   "execution_count": null,
   "id": "71c3303a-6a05-4ae0-88b6-5fe166d00819",
   "metadata": {},
   "outputs": [],
   "source": [
    "df.columns = df.iloc[2]\n",
    "df.drop([0,1,2], axis = 0, inplace=True)"
   ]
  },
  {
   "cell_type": "code",
   "execution_count": null,
   "id": "6757ac07-36db-499f-ac2e-6438473bb401",
   "metadata": {},
   "outputs": [],
   "source": [
    "df.head()"
   ]
  },
  {
   "cell_type": "code",
   "execution_count": null,
   "id": "b2342470-db3c-43b7-8b8f-12c89493da6a",
   "metadata": {},
   "outputs": [],
   "source": [
    "columns = df.columns.tolist()\n",
    "print(\"Columns:\", columns)"
   ]
  },
  {
   "cell_type": "markdown",
   "id": "3a22e62c-24ec-445c-ab17-1a8392c3ca58",
   "metadata": {},
   "source": [
    "## Tirando coluna vazia"
   ]
  },
  {
   "cell_type": "code",
   "execution_count": null,
   "id": "3cd29619-a5b7-4309-a89b-c8567fdff633",
   "metadata": {},
   "outputs": [],
   "source": [
    "df = df.drop_duplicates()"
   ]
  },
  {
   "cell_type": "markdown",
   "id": "5a6269d6-a102-4f17-8aaf-9c313c0fe3a1",
   "metadata": {},
   "source": [
    "## Removendo nulos"
   ]
  },
  {
   "cell_type": "code",
   "execution_count": null,
   "id": "1bc2dd24-1f28-48e4-a953-b94ae7ae30c0",
   "metadata": {},
   "outputs": [],
   "source": [
    "df = df.dropna()"
   ]
  },
  {
   "cell_type": "markdown",
   "id": "de6c344f-6baf-4994-b9a5-a5699ca1c9ca",
   "metadata": {},
   "source": [
    "## Convertendo data de object pra datetime"
   ]
  },
  {
   "cell_type": "code",
   "execution_count": null,
   "id": "18afb3d4-5aa2-4251-835b-d1eca2cfa2a8",
   "metadata": {},
   "outputs": [],
   "source": [
    "df['DATA'] = pd.to_datetime(df['DATA'], errors='coerce')"
   ]
  },
  {
   "cell_type": "markdown",
   "id": "f181fe35-e56a-4bdc-9bd0-ef9ea989b66c",
   "metadata": {},
   "source": [
    "## Criando as colunas por status e por id"
   ]
  },
  {
   "cell_type": "code",
   "execution_count": null,
   "id": "e56ecea7-221c-4e0b-b8c6-edb2f626bcbb",
   "metadata": {},
   "outputs": [],
   "source": [
    "pivot_df = df.pivot_table(index='KNR', columns=[\"ID\", \"STATUS\"], aggfunc='size', fill_value=0)\n",
    "\n",
    "pivot_df.columns = [f'QTD_STATUS_{col[0]}_OK' if col[1]== 10 else f'QTD_STATUS_{col[0]}_NOK' for col in pivot_df.columns]\n",
    "\n",
    "pivot_df.reset_index(inplace=True)"
   ]
  },
  {
   "cell_type": "markdown",
   "id": "d576923a-85fb-4fdc-babe-91b1ec085904",
   "metadata": {},
   "source": [
    "## Criando coluna de quantidade de operações por KNR, que, no caso, também é a soma dos status de cada resultado"
   ]
  },
  {
   "cell_type": "code",
   "execution_count": null,
   "id": "f352a2ed-ee07-4b7e-a6f8-c751b67b8d22",
   "metadata": {},
   "outputs": [],
   "source": [
    "pivot_df[\"TEMPO_MEDIO\"] = df.groupby('KNR').DATA.transform('max') - df.groupby('KNR').DATA.transform('min')"
   ]
  },
  {
   "cell_type": "markdown",
   "id": "11ace6fe-75ac-40e3-b896-55953ca7cb25",
   "metadata": {},
   "source": [
    "## Transformando tempo em minutos"
   ]
  },
  {
   "cell_type": "code",
   "execution_count": null,
   "id": "7338a168-cf03-4b3f-b790-7c47e2ee250d",
   "metadata": {},
   "outputs": [],
   "source": [
    "pivot_df[\"TEMPO_MEDIO\"] = pivot_df[\"TEMPO_MEDIO\"].dt.total_seconds()/60"
   ]
  },
  {
   "cell_type": "code",
   "execution_count": null,
   "id": "05a7bbb8-cf8f-4eab-992a-493b7b213bea",
   "metadata": {},
   "outputs": [],
   "source": [
    "pivot_df.head(20)"
   ]
  },
  {
   "cell_type": "code",
   "execution_count": null,
   "id": "e5ac023d-c963-4be5-b629-3da1bf19cdb2",
   "metadata": {},
   "outputs": [],
   "source": []
  },
  {
   "cell_type": "markdown",
   "id": "9e230639-0e6c-41ef-ad99-20f24cf50e5a",
   "metadata": {},
   "source": [
    "# Importando dados planilha 7 - 8 e 9"
   ]
  },
  {
   "cell_type": "code",
   "execution_count": null,
   "id": "439f41eb-d47d-4947-8447-633b023f4970",
   "metadata": {},
   "outputs": [],
   "source": [
    "df = pd.read_csv(\"../../../data/csv/p7_res_8_9.csv\", engine='pyarrow')"
   ]
  },
  {
   "cell_type": "code",
   "execution_count": null,
   "id": "24196613-932b-47d0-a593-84aff5671a3f",
   "metadata": {},
   "outputs": [],
   "source": [
    "df.head()"
   ]
  },
  {
   "cell_type": "code",
   "execution_count": null,
   "id": "b292c799-2a8a-4b2d-8143-800db994e218",
   "metadata": {
    "scrolled": true
   },
   "outputs": [],
   "source": [
    "df.drop(columns = 'Unnamed: 0', inplace=True)"
   ]
  },
  {
   "cell_type": "code",
   "execution_count": null,
   "id": "c062ac0b-2e3e-4f47-bcdd-c8177c66ac78",
   "metadata": {},
   "outputs": [],
   "source": [
    "df.columns = df.iloc[2]\n",
    "df.drop([0,1,2], axis = 0, inplace=True)"
   ]
  },
  {
   "cell_type": "code",
   "execution_count": null,
   "id": "c8935a80-a797-4cfc-82a9-c8dfbf0b0b43",
   "metadata": {},
   "outputs": [],
   "source": [
    "df.head()"
   ]
  },
  {
   "cell_type": "code",
   "execution_count": null,
   "id": "9c116692-5358-4b86-9b41-b414222dfa64",
   "metadata": {},
   "outputs": [],
   "source": [
    "columns = df.columns.tolist()\n",
    "print(\"Columns:\", columns)"
   ]
  },
  {
   "cell_type": "markdown",
   "id": "c7753539-157b-4668-bb39-2ca78171591e",
   "metadata": {},
   "source": [
    "## Tirando coluna vazia"
   ]
  },
  {
   "cell_type": "code",
   "execution_count": null,
   "id": "2459ea58-1a7a-4d98-a8ee-9e6569d153de",
   "metadata": {},
   "outputs": [],
   "source": [
    "df = df.drop_duplicates()"
   ]
  },
  {
   "cell_type": "markdown",
   "id": "a8fe5098-f444-4e86-becf-5233356f35d3",
   "metadata": {},
   "source": [
    "## Removendo nulos"
   ]
  },
  {
   "cell_type": "code",
   "execution_count": null,
   "id": "296a3cbb-cda6-46f4-9e43-52ed2e060293",
   "metadata": {},
   "outputs": [],
   "source": [
    "df = df.dropna()"
   ]
  },
  {
   "cell_type": "markdown",
   "id": "648833cf-464d-4c0b-b11e-025d9d549728",
   "metadata": {},
   "source": [
    "## Convertendo data de object pra datetime"
   ]
  },
  {
   "cell_type": "code",
   "execution_count": null,
   "id": "061831d4-ecaf-402f-8fc2-4e756b91dd97",
   "metadata": {},
   "outputs": [],
   "source": [
    "df['DATA'] = pd.to_datetime(df['DATA'], errors='coerce')"
   ]
  },
  {
   "cell_type": "markdown",
   "id": "7bb29c7e-7cad-46f4-9051-a4c6ec9021a2",
   "metadata": {},
   "source": [
    "## Criando as colunas por status e por id"
   ]
  },
  {
   "cell_type": "code",
   "execution_count": null,
   "id": "cecc3e2a-9063-455e-9fe3-2a873e28afe7",
   "metadata": {},
   "outputs": [],
   "source": [
    "pivot_df = df.pivot_table(index='KNR', columns=[\"ID\", \"STATUS\"], aggfunc='size', fill_value=0)\n",
    "\n",
    "pivot_df.columns = [f'QTD_STATUS_{col[0]}_OK' if col[1]== 10 else f'QTD_STATUS_{col[0]}_NOK' for col in pivot_df.columns]\n",
    "\n",
    "pivot_df.reset_index(inplace=True)"
   ]
  },
  {
   "cell_type": "markdown",
   "id": "cc5b714f-0b3a-4948-99c1-0bfb20d00ae9",
   "metadata": {},
   "source": [
    "## Criando coluna de quantidade de operações por KNR, que, no caso, também é a soma dos status de cada resultado"
   ]
  },
  {
   "cell_type": "code",
   "execution_count": null,
   "id": "72d3c6e3-a723-4c7c-bdcc-0b69b89777cf",
   "metadata": {},
   "outputs": [],
   "source": [
    "pivot_df[\"TEMPO_MEDIO\"] = df.groupby('KNR').DATA.transform('max') - df.groupby('KNR').DATA.transform('min')"
   ]
  },
  {
   "cell_type": "markdown",
   "id": "2fc956ca-6737-4b9c-98b3-c9b9c173e689",
   "metadata": {},
   "source": [
    "## Transformando tempo em minutos"
   ]
  },
  {
   "cell_type": "code",
   "execution_count": null,
   "id": "9fb57a6c-fe6e-47d8-9f12-a7111f72cb57",
   "metadata": {},
   "outputs": [],
   "source": [
    "pivot_df[\"TEMPO_MEDIO\"] = pivot_df[\"TEMPO_MEDIO\"].dt.total_seconds()/60"
   ]
  },
  {
   "cell_type": "code",
   "execution_count": null,
   "id": "fa20d50e-3665-499c-bea4-8f1fb140c777",
   "metadata": {},
   "outputs": [],
   "source": [
    "pivot_df.head(20)"
   ]
  },
  {
   "cell_type": "code",
   "execution_count": null,
   "id": "783c20e4-32e1-46e9-b954-2e07b18542b6",
   "metadata": {},
   "outputs": [],
   "source": []
  },
  {
   "cell_type": "markdown",
   "id": "17f561eb-d4b0-4a7c-ae62-8b58d34e7fb8",
   "metadata": {},
   "source": [
    "# Importando dados planilha 8 - 8 e 9"
   ]
  },
  {
   "cell_type": "code",
   "execution_count": null,
   "id": "3ba874ef-91f1-4f67-8955-a7aa3c5b672a",
   "metadata": {},
   "outputs": [],
   "source": [
    "df = pd.read_csv(\"../../../data/csv/p8_res_8_9.csv\", engine='pyarrow')"
   ]
  },
  {
   "cell_type": "code",
   "execution_count": null,
   "id": "ed267714-86a1-4b3e-9636-d6d90b9e86e4",
   "metadata": {},
   "outputs": [],
   "source": [
    "df.head()"
   ]
  },
  {
   "cell_type": "code",
   "execution_count": null,
   "id": "cf041cac-8283-4068-9682-a690ea289de2",
   "metadata": {
    "scrolled": true
   },
   "outputs": [],
   "source": [
    "df.drop(columns = 'Unnamed: 0', inplace=True)"
   ]
  },
  {
   "cell_type": "code",
   "execution_count": null,
   "id": "ec2d1d0a-6cae-4fc8-bdd8-90ffc6386bc1",
   "metadata": {},
   "outputs": [],
   "source": [
    "df.columns = df.iloc[2]\n",
    "df.drop([0,1,2], axis = 0, inplace=True)"
   ]
  },
  {
   "cell_type": "code",
   "execution_count": null,
   "id": "32af3d63-2a71-4790-8e68-cdfa039055dc",
   "metadata": {},
   "outputs": [],
   "source": [
    "df.head()"
   ]
  },
  {
   "cell_type": "code",
   "execution_count": null,
   "id": "cd0dbc59-d9f5-4806-9f79-a1ff757dd952",
   "metadata": {},
   "outputs": [],
   "source": [
    "columns = df.columns.tolist()\n",
    "print(\"Columns:\", columns)"
   ]
  },
  {
   "cell_type": "markdown",
   "id": "69f52b9b-93e3-4976-83fa-6cf4bf88ec43",
   "metadata": {},
   "source": [
    "## Tirando coluna vazia"
   ]
  },
  {
   "cell_type": "code",
   "execution_count": null,
   "id": "4115ce05-86d5-4599-bdf1-f9f51b498b07",
   "metadata": {},
   "outputs": [],
   "source": [
    "df = df.drop_duplicates()"
   ]
  },
  {
   "cell_type": "markdown",
   "id": "3be2d306-79fc-4c77-aa6d-2fd465e99899",
   "metadata": {},
   "source": [
    "## Removendo nulos"
   ]
  },
  {
   "cell_type": "code",
   "execution_count": null,
   "id": "b413ad2e-3c00-4255-92e4-e9efe5080e75",
   "metadata": {},
   "outputs": [],
   "source": [
    "df = df.dropna()"
   ]
  },
  {
   "cell_type": "markdown",
   "id": "54a28f91-fbb5-42bf-a002-833560decb9d",
   "metadata": {},
   "source": [
    "## Convertendo data de object pra datetime"
   ]
  },
  {
   "cell_type": "code",
   "execution_count": null,
   "id": "fb6ac2dd-b207-4532-9863-68b1ea53b9f1",
   "metadata": {},
   "outputs": [],
   "source": [
    "df['DATA'] = pd.to_datetime(df['DATA'], errors='coerce')"
   ]
  },
  {
   "cell_type": "markdown",
   "id": "6d62af80-76fa-47c4-9b96-9b2fbadcc92e",
   "metadata": {},
   "source": [
    "## Criando as colunas por status e por id"
   ]
  },
  {
   "cell_type": "code",
   "execution_count": null,
   "id": "0a7c94f0-684a-4643-be29-75395d3721f9",
   "metadata": {},
   "outputs": [],
   "source": [
    "pivot_df = df.pivot_table(index='KNR', columns=[\"ID\", \"STATUS\"], aggfunc='size', fill_value=0)\n",
    "\n",
    "pivot_df.columns = [f'QTD_STATUS_{col[0]}_OK' if col[1]== 10 else f'QTD_STATUS_{col[0]}_NOK' for col in pivot_df.columns]\n",
    "\n",
    "pivot_df.reset_index(inplace=True)"
   ]
  },
  {
   "cell_type": "markdown",
   "id": "a03ace39-1832-49f9-bb3a-90d558ff3bc4",
   "metadata": {},
   "source": [
    "## Criando coluna de quantidade de operações por KNR, que, no caso, também é a soma dos status de cada resultado"
   ]
  },
  {
   "cell_type": "code",
   "execution_count": null,
   "id": "27dab2fd-ff31-4199-a3af-a01530dfe933",
   "metadata": {},
   "outputs": [],
   "source": [
    "pivot_df[\"TEMPO_MEDIO\"] = df.groupby('KNR').DATA.transform('max') - df.groupby('KNR').DATA.transform('min')"
   ]
  },
  {
   "cell_type": "markdown",
   "id": "999446ad-e271-4b74-aab4-a29be43a6bbe",
   "metadata": {},
   "source": [
    "## Transformando tempo em minutos"
   ]
  },
  {
   "cell_type": "code",
   "execution_count": null,
   "id": "987621fd-6943-4ba5-9bb7-35902b5c5c2b",
   "metadata": {},
   "outputs": [],
   "source": [
    "pivot_df[\"TEMPO_MEDIO\"] = pivot_df[\"TEMPO_MEDIO\"].dt.total_seconds()/60"
   ]
  },
  {
   "cell_type": "code",
   "execution_count": null,
   "id": "b3fe5044-6160-49e5-bad9-5d5010d19d38",
   "metadata": {},
   "outputs": [],
   "source": [
    "pivot_df.head(20)"
   ]
  },
  {
   "cell_type": "code",
   "execution_count": null,
   "id": "9338b101-b6fb-4b7d-8a8f-88b352874718",
   "metadata": {},
   "outputs": [],
   "source": []
  },
  {
   "cell_type": "markdown",
   "id": "6a62dbab-69ba-4043-bcb5-823dc063fe0e",
   "metadata": {},
   "source": [
    "# Importando dados planilha 9 - 8 e 9"
   ]
  },
  {
   "cell_type": "code",
   "execution_count": null,
   "id": "ad9909b6-8f98-4d67-b915-821c969b7337",
   "metadata": {},
   "outputs": [],
   "source": [
    "df = pd.read_csv(\"../../../data/csv/p9_res_8_9.csv\", engine='pyarrow')"
   ]
  },
  {
   "cell_type": "code",
   "execution_count": null,
   "id": "4264ea7b-7524-403e-838d-264350c9720f",
   "metadata": {},
   "outputs": [],
   "source": [
    "df.head()"
   ]
  },
  {
   "cell_type": "code",
   "execution_count": null,
   "id": "c1d94a25-5ae4-4561-b579-8d6a43a442e1",
   "metadata": {
    "scrolled": true
   },
   "outputs": [],
   "source": [
    "df.drop(columns = 'Unnamed: 0', inplace=True)"
   ]
  },
  {
   "cell_type": "code",
   "execution_count": null,
   "id": "6c235e67-b8ad-4e09-8508-7223769f8e55",
   "metadata": {},
   "outputs": [],
   "source": [
    "df.columns = df.iloc[2]\n",
    "df.drop([0,1,2], axis = 0, inplace=True)"
   ]
  },
  {
   "cell_type": "code",
   "execution_count": null,
   "id": "0e76779c-c283-4cd5-b9db-633c14535321",
   "metadata": {},
   "outputs": [],
   "source": [
    "df.head()"
   ]
  },
  {
   "cell_type": "code",
   "execution_count": null,
   "id": "60f694a4-e78d-4a07-8a1d-a89411fdac63",
   "metadata": {},
   "outputs": [],
   "source": [
    "columns = df.columns.tolist()\n",
    "print(\"Columns:\", columns)"
   ]
  },
  {
   "cell_type": "markdown",
   "id": "d771183a-999a-4527-b186-d1937d2254a9",
   "metadata": {},
   "source": [
    "## Tirando coluna vazia"
   ]
  },
  {
   "cell_type": "code",
   "execution_count": null,
   "id": "a167b382-f2b3-4894-914b-4d84af12b958",
   "metadata": {},
   "outputs": [],
   "source": [
    "df = df.drop_duplicates()"
   ]
  },
  {
   "cell_type": "markdown",
   "id": "606fc618-c5c0-4b83-a821-0c7fe902df69",
   "metadata": {},
   "source": [
    "## Removendo nulos"
   ]
  },
  {
   "cell_type": "code",
   "execution_count": null,
   "id": "c3b429a6-a031-4898-8b0c-2c6c420ffa63",
   "metadata": {},
   "outputs": [],
   "source": [
    "df = df.dropna()"
   ]
  },
  {
   "cell_type": "markdown",
   "id": "1671d3a9-49b6-4ed0-8e11-05bbe748b3c4",
   "metadata": {},
   "source": [
    "## Convertendo data de object pra datetime"
   ]
  },
  {
   "cell_type": "code",
   "execution_count": null,
   "id": "59bcbf26-c66a-4e32-997a-5a83a3285e57",
   "metadata": {},
   "outputs": [],
   "source": [
    "df['DATA'] = pd.to_datetime(df['DATA'], errors='coerce')"
   ]
  },
  {
   "cell_type": "markdown",
   "id": "43da154e-1a04-42db-8ec1-c5256d4ba077",
   "metadata": {},
   "source": [
    "## Criando as colunas por status e por id"
   ]
  },
  {
   "cell_type": "code",
   "execution_count": null,
   "id": "27e7409d-642b-475f-829f-5132103e2686",
   "metadata": {},
   "outputs": [],
   "source": [
    "pivot_df = df.pivot_table(index='KNR', columns=[\"ID\", \"STATUS\"], aggfunc='size', fill_value=0)\n",
    "\n",
    "pivot_df.columns = [f'QTD_STATUS_{col[0]}_OK' if col[1]== 10 else f'QTD_STATUS_{col[0]}_NOK' for col in pivot_df.columns]\n",
    "\n",
    "pivot_df.reset_index(inplace=True)"
   ]
  },
  {
   "cell_type": "markdown",
   "id": "60246a13-0ea3-4a98-869a-20c126b3334d",
   "metadata": {},
   "source": [
    "## Criando coluna de quantidade de operações por KNR, que, no caso, também é a soma dos status de cada resultado"
   ]
  },
  {
   "cell_type": "code",
   "execution_count": null,
   "id": "267753a8-3717-41a5-a712-c8e26ed1b9fb",
   "metadata": {},
   "outputs": [],
   "source": [
    "pivot_df[\"TEMPO_MEDIO\"] = df.groupby('KNR').DATA.transform('max') - df.groupby('KNR').DATA.transform('min')"
   ]
  },
  {
   "cell_type": "markdown",
   "id": "00e56c8c-77b1-44fe-b571-18f75b598d93",
   "metadata": {},
   "source": [
    "## Transformando tempo em minutos"
   ]
  },
  {
   "cell_type": "code",
   "execution_count": null,
   "id": "5698908e-c380-4582-a77a-ec55d239e9ca",
   "metadata": {},
   "outputs": [],
   "source": [
    "pivot_df[\"TEMPO_MEDIO\"] = pivot_df[\"TEMPO_MEDIO\"].dt.total_seconds()/60"
   ]
  },
  {
   "cell_type": "code",
   "execution_count": null,
   "id": "6362a516-633a-4fcb-b36d-07084d7489a6",
   "metadata": {},
   "outputs": [],
   "source": [
    "pivot_df.head(20)"
   ]
  },
  {
   "cell_type": "code",
   "execution_count": null,
   "id": "84bc3a8c-f6e0-4db9-9da9-21979a29a0db",
   "metadata": {},
   "outputs": [],
   "source": []
  },
  {
   "cell_type": "markdown",
   "id": "5f96c1f7-3577-43e5-87dd-6628083d87f5",
   "metadata": {},
   "source": [
    "# Importando dados planilha 10 - 8 e 9"
   ]
  },
  {
   "cell_type": "code",
   "execution_count": null,
   "id": "fcf0b989-1330-4c68-88f8-2f03d71afbb9",
   "metadata": {},
   "outputs": [],
   "source": [
    "df = pd.read_csv(\"../../../data/csv/p10_res_8_9.csv\", engine='pyarrow')"
   ]
  },
  {
   "cell_type": "code",
   "execution_count": null,
   "id": "8656bb0d-c59d-4e28-8238-300824e04476",
   "metadata": {},
   "outputs": [],
   "source": [
    "df.head()"
   ]
  },
  {
   "cell_type": "code",
   "execution_count": null,
   "id": "cab1cbcf-c2cd-42b7-9a1f-691fd6a61a32",
   "metadata": {
    "scrolled": true
   },
   "outputs": [],
   "source": [
    "df.drop(columns = 'Unnamed: 0', inplace=True)"
   ]
  },
  {
   "cell_type": "code",
   "execution_count": null,
   "id": "88b795ca-3433-417b-a76d-30f3a4eee50b",
   "metadata": {},
   "outputs": [],
   "source": [
    "df.columns = df.iloc[2]\n",
    "df.drop([0,1,2], axis = 0, inplace=True)"
   ]
  },
  {
   "cell_type": "code",
   "execution_count": null,
   "id": "acf775dd-4af8-46cb-8184-a337806dfdd4",
   "metadata": {},
   "outputs": [],
   "source": [
    "df.head()"
   ]
  },
  {
   "cell_type": "code",
   "execution_count": null,
   "id": "ff6eca41-8168-46d8-96b2-b16a763f4ed9",
   "metadata": {},
   "outputs": [],
   "source": [
    "columns = df.columns.tolist()\n",
    "print(\"Columns:\", columns)"
   ]
  },
  {
   "cell_type": "markdown",
   "id": "a511f7d2-aac7-4fce-86c7-ae9ef044a1e0",
   "metadata": {},
   "source": [
    "## Tirando coluna vazia"
   ]
  },
  {
   "cell_type": "code",
   "execution_count": null,
   "id": "c6266660-9ee8-4c23-9813-c3438e1b3aa1",
   "metadata": {},
   "outputs": [],
   "source": [
    "df = df.drop_duplicates()"
   ]
  },
  {
   "cell_type": "markdown",
   "id": "358f5d92-9a35-40ce-bc8c-91a32ba1a8ca",
   "metadata": {},
   "source": [
    "## Removendo nulos"
   ]
  },
  {
   "cell_type": "code",
   "execution_count": null,
   "id": "636fc9dc-6b85-4440-a19c-5457712f5129",
   "metadata": {},
   "outputs": [],
   "source": [
    "df = df.dropna()"
   ]
  },
  {
   "cell_type": "markdown",
   "id": "fe58491d-99a3-4d22-88e9-ca2e44f1b118",
   "metadata": {},
   "source": [
    "## Convertendo data de object pra datetime"
   ]
  },
  {
   "cell_type": "code",
   "execution_count": null,
   "id": "8b034c3e-b019-4117-bc27-3dd8949af9df",
   "metadata": {},
   "outputs": [],
   "source": [
    "df['DATA'] = pd.to_datetime(df['DATA'], errors='coerce')"
   ]
  },
  {
   "cell_type": "markdown",
   "id": "214dad92-d733-4258-aaaa-b9bb2ea53a57",
   "metadata": {},
   "source": [
    "## Criando as colunas por status e por id"
   ]
  },
  {
   "cell_type": "code",
   "execution_count": null,
   "id": "d26e958d-fcec-4afd-b63f-845e2dae9331",
   "metadata": {},
   "outputs": [],
   "source": [
    "pivot_df = df.pivot_table(index='KNR', columns=[\"ID\", \"STATUS\"], aggfunc='size', fill_value=0)\n",
    "\n",
    "pivot_df.columns = [f'QTD_STATUS_{col[0]}_OK' if col[1]== 10 else f'QTD_STATUS_{col[0]}_NOK' for col in pivot_df.columns]\n",
    "\n",
    "pivot_df.reset_index(inplace=True)"
   ]
  },
  {
   "cell_type": "markdown",
   "id": "45f41aaa-44d9-47ff-968d-eb8b15f5ff07",
   "metadata": {},
   "source": [
    "## Criando coluna de quantidade de operações por KNR, que, no caso, também é a soma dos status de cada resultado"
   ]
  },
  {
   "cell_type": "code",
   "execution_count": null,
   "id": "c6928509-f5bc-4fa4-bfa5-e813659473ed",
   "metadata": {},
   "outputs": [],
   "source": [
    "pivot_df[\"TEMPO_MEDIO\"] = df.groupby('KNR').DATA.transform('max') - df.groupby('KNR').DATA.transform('min')"
   ]
  },
  {
   "cell_type": "markdown",
   "id": "e09382a6-fb32-4c37-ad97-e148917034ef",
   "metadata": {},
   "source": [
    "## Transformando tempo em minutos"
   ]
  },
  {
   "cell_type": "code",
   "execution_count": null,
   "id": "b62930f1-681b-451c-960f-8da07f94bf1a",
   "metadata": {},
   "outputs": [],
   "source": [
    "pivot_df[\"TEMPO_MEDIO\"] = pivot_df[\"TEMPO_MEDIO\"].dt.total_seconds()/60"
   ]
  },
  {
   "cell_type": "code",
   "execution_count": null,
   "id": "353e995e-e924-44c6-8900-f3f0519cd005",
   "metadata": {},
   "outputs": [],
   "source": [
    "pivot_df.head(20)"
   ]
  },
  {
   "cell_type": "code",
   "execution_count": null,
   "id": "b9e4b4ee-d1c5-4b4d-85bc-b5a47617aeb2",
   "metadata": {},
   "outputs": [],
   "source": []
  },
  {
   "cell_type": "markdown",
   "id": "93d1905a-35e5-4379-ad22-061d39b61aed",
   "metadata": {},
   "source": [
    "# Importando dados planilha 11 - 8 e 9"
   ]
  },
  {
   "cell_type": "code",
   "execution_count": null,
   "id": "4dba8fc2-068a-4f55-b394-da0b17d5f2a0",
   "metadata": {},
   "outputs": [],
   "source": [
    "df = pd.read_csv(\"../../../data/csv/p11_res_8_9.csv\", engine='pyarrow')"
   ]
  },
  {
   "cell_type": "code",
   "execution_count": null,
   "id": "0b92dcdf-2d28-4bfd-be6f-44c401840568",
   "metadata": {},
   "outputs": [],
   "source": [
    "df.head()"
   ]
  },
  {
   "cell_type": "code",
   "execution_count": null,
   "id": "7ddbbcc5-fefb-4e2b-8d77-ec038fd98e52",
   "metadata": {
    "scrolled": true
   },
   "outputs": [],
   "source": [
    "df.drop(columns = 'Unnamed: 0', inplace=True)"
   ]
  },
  {
   "cell_type": "code",
   "execution_count": null,
   "id": "e32eaf7c-7902-4d8f-a613-8e0cabbdd606",
   "metadata": {},
   "outputs": [],
   "source": [
    "df.columns = df.iloc[2]\n",
    "df.drop([0,1,2], axis = 0, inplace=True)"
   ]
  },
  {
   "cell_type": "code",
   "execution_count": null,
   "id": "fff745cf-a3d1-4ad0-8a9b-e9e35cda20cf",
   "metadata": {},
   "outputs": [],
   "source": [
    "df.head()"
   ]
  },
  {
   "cell_type": "code",
   "execution_count": null,
   "id": "a3ef22a9-1fd3-46d2-89f8-6fb56da59900",
   "metadata": {},
   "outputs": [],
   "source": [
    "columns = df.columns.tolist()\n",
    "print(\"Columns:\", columns)"
   ]
  },
  {
   "cell_type": "markdown",
   "id": "357dcd34-9ea3-466e-be69-427c6fc81ed5",
   "metadata": {},
   "source": [
    "## Tirando coluna vazia"
   ]
  },
  {
   "cell_type": "code",
   "execution_count": null,
   "id": "d186dc0c-1a27-4535-b5d8-c2913eb6c2d8",
   "metadata": {},
   "outputs": [],
   "source": [
    "df = df.drop_duplicates()"
   ]
  },
  {
   "cell_type": "markdown",
   "id": "1ad4e99e-7ab7-4da2-b4fe-ed37becaf234",
   "metadata": {},
   "source": [
    "## Removendo nulos"
   ]
  },
  {
   "cell_type": "code",
   "execution_count": null,
   "id": "46c7fdb2-1934-4a39-aa6e-e123ac0784f9",
   "metadata": {},
   "outputs": [],
   "source": [
    "df = df.dropna()"
   ]
  },
  {
   "cell_type": "markdown",
   "id": "47ddc02b-6fa6-4c5d-a134-74e0ba770293",
   "metadata": {},
   "source": [
    "## Convertendo data de object pra datetime"
   ]
  },
  {
   "cell_type": "code",
   "execution_count": null,
   "id": "e47eac34-bc9e-4be2-997a-7356ed0cde55",
   "metadata": {},
   "outputs": [],
   "source": [
    "df['DATA'] = pd.to_datetime(df['DATA'], errors='coerce')"
   ]
  },
  {
   "cell_type": "markdown",
   "id": "ee6135b9-b54d-4292-bef3-4688087445b4",
   "metadata": {},
   "source": [
    "## Criando as colunas por status e por id"
   ]
  },
  {
   "cell_type": "code",
   "execution_count": null,
   "id": "ac826c2c-1b32-42e3-ac73-b1ab76eb9f09",
   "metadata": {},
   "outputs": [],
   "source": [
    "pivot_df = df.pivot_table(index='KNR', columns=[\"ID\", \"STATUS\"], aggfunc='size', fill_value=0)\n",
    "\n",
    "pivot_df.columns = [f'QTD_STATUS_{col[0]}_OK' if col[1]== 10 else f'QTD_STATUS_{col[0]}_NOK' for col in pivot_df.columns]\n",
    "\n",
    "pivot_df.reset_index(inplace=True)"
   ]
  },
  {
   "cell_type": "markdown",
   "id": "1906dab8-4ee2-4a7d-a858-709bb8d3eb08",
   "metadata": {},
   "source": [
    "## Criando coluna de quantidade de operações por KNR, que, no caso, também é a soma dos status de cada resultado"
   ]
  },
  {
   "cell_type": "code",
   "execution_count": null,
   "id": "8547553a-2ebd-449c-851a-9c1bfcbc1671",
   "metadata": {},
   "outputs": [],
   "source": [
    "pivot_df[\"TEMPO_MEDIO\"] = df.groupby('KNR').DATA.transform('max') - df.groupby('KNR').DATA.transform('min')"
   ]
  },
  {
   "cell_type": "markdown",
   "id": "b77001bf-e889-4db6-806b-2a3cfd86cff9",
   "metadata": {},
   "source": [
    "## Transformando tempo em minutos"
   ]
  },
  {
   "cell_type": "code",
   "execution_count": null,
   "id": "8ed5f876-6fdd-4dc6-b556-25e92a233fdb",
   "metadata": {},
   "outputs": [],
   "source": [
    "pivot_df[\"TEMPO_MEDIO\"] = pivot_df[\"TEMPO_MEDIO\"].dt.total_seconds()/60"
   ]
  },
  {
   "cell_type": "code",
   "execution_count": null,
   "id": "9778ccb9-e51d-46d4-91a2-794dcc9845c0",
   "metadata": {},
   "outputs": [],
   "source": [
    "pivot_df.head(20)"
   ]
  }
 ],
 "metadata": {
  "kernelspec": {
   "display_name": "Python 3 (ipykernel)",
   "language": "python",
   "name": "python3"
  },
  "language_info": {
   "codemirror_mode": {
    "name": "ipython",
    "version": 3
   },
   "file_extension": ".py",
   "mimetype": "text/x-python",
   "name": "python",
   "nbconvert_exporter": "python",
   "pygments_lexer": "ipython3",
   "version": "3.11.1"
  }
 },
 "nbformat": 4,
 "nbformat_minor": 5
}
