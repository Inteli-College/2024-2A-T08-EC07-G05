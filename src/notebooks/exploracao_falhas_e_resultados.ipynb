{
 "cells": [
  {
   "cell_type": "markdown",
   "id": "262d6c77-8853-42b5-b77e-89871fb6ebe5",
   "metadata": {},
   "source": [
    "# Exploração dos dados\n",
    "\n",
    "### Bases utilizadas:\n",
    "Falhas: https://docs.google.com/spreadsheets/d/1ZuUA4QvWRBrtmXjXNlOVR5nxebpxXa67/edit?gid=97258327#gid=97258327\n",
    "Resultados: https://drive.google.com/file/d/1yqyhJG2N6APHOby6xHPbnVduhpFyrzP7/view?usp=sharing"
   ]
  },
  {
   "cell_type": "markdown",
   "id": "038562f6-90f3-436d-aed2-69292189ee4b",
   "metadata": {
    "jp-MarkdownHeadingCollapsed": true
   },
   "source": [
    "## Instalando e importando bibliotecas"
   ]
  },
  {
   "cell_type": "code",
   "execution_count": null,
   "id": "fcc6cbe5-d45c-4441-8e7f-013e2fc55013",
   "metadata": {},
   "outputs": [],
   "source": [
    "pip install ydata-profiling matplotlib ipywidgets pandas"
   ]
  },
  {
   "cell_type": "code",
   "execution_count": null,
   "id": "ff89502e-bc59-46bc-a400-fd236c1c122d",
   "metadata": {},
   "outputs": [],
   "source": [
    "import pandas as pd"
   ]
  },
  {
   "cell_type": "code",
   "execution_count": null,
   "id": "119fa690-af08-4992-94e2-302b53f6d474",
   "metadata": {},
   "outputs": [],
   "source": [
    "from ydata_profiling import ProfileReport"
   ]
  },
  {
   "cell_type": "code",
   "execution_count": null,
   "id": "df2005dc-cfff-4cca-86e3-081ac260beb6",
   "metadata": {},
   "outputs": [],
   "source": [
    "import matplotlib.pyplot as plt\n",
    "import seaborn as sns"
   ]
  },
  {
   "cell_type": "markdown",
   "id": "81481574-e650-4f7f-aac2-4be82385b9ac",
   "metadata": {
    "jp-MarkdownHeadingCollapsed": true
   },
   "source": [
    "## Importando datasets"
   ]
  },
  {
   "cell_type": "code",
   "execution_count": null,
   "id": "8db1d7b4-31d7-4f75-9abd-56263e537c02",
   "metadata": {},
   "outputs": [],
   "source": [
    "df_resultados = pd.read_csv('RESULTADOS_04_06_2024_full_teste.csv', compression='gzip')"
   ]
  },
  {
   "cell_type": "code",
   "execution_count": null,
   "id": "75eb1544-7262-4860-b86d-762b95684b2d",
   "metadata": {},
   "outputs": [],
   "source": [
    "df_falhas = pd.read_csv('FALHAS_04_05_06_2024_Relatorio_1.csv')"
   ]
  },
  {
   "cell_type": "markdown",
   "id": "199cd013-6a85-4144-bf06-13cf4e898ae9",
   "metadata": {},
   "source": [
    "## Explorando tabela de resultados"
   ]
  },
  {
   "cell_type": "code",
   "execution_count": null,
   "id": "61e6a84a-08eb-4cac-bb66-86193408731b",
   "metadata": {
    "scrolled": true
   },
   "outputs": [],
   "source": [
    "df_resultados.head(20)"
   ]
  },
  {
   "cell_type": "markdown",
   "id": "594406bc-e7a5-4dd7-82cb-87eba4ba2e6a",
   "metadata": {
    "jp-MarkdownHeadingCollapsed": true
   },
   "source": [
    "### Ajustando dataframe de resultados"
   ]
  },
  {
   "cell_type": "code",
   "execution_count": null,
   "id": "657b20a6-e789-40ef-9a85-c1364db6f27d",
   "metadata": {},
   "outputs": [],
   "source": [
    "df_resultados = df_resultados.drop(columns=['Unnamed: 0'])"
   ]
  },
  {
   "cell_type": "markdown",
   "id": "57f99e55-f2a2-416b-aca6-5a5aca5db68c",
   "metadata": {},
   "source": [
    "### Avaliando features"
   ]
  },
  {
   "cell_type": "code",
   "execution_count": null,
   "id": "a96abcc7-22e8-4394-ab85-d386c4733753",
   "metadata": {},
   "outputs": [],
   "source": [
    "df.describe()"
   ]
  },
  {
   "cell_type": "code",
   "execution_count": null,
   "id": "d15ffcb0-54a6-4617-b543-8707de64abe7",
   "metadata": {},
   "outputs": [],
   "source": [
    "profile_resultados = ProfileReport(df_resultados, title='Relatório de Análise Descritiva - Resultados', explorative=True)\n",
    "\n",
    "profile_resultados.to_file(\"relatorio_analise_descritiva_resultados.html\")"
   ]
  },
  {
   "cell_type": "code",
   "execution_count": null,
   "id": "cb78ec12-e120-40dc-8dcb-5566a31d3b7b",
   "metadata": {},
   "outputs": [],
   "source": [
    "df_resultados['KNR'].value_counts()"
   ]
  },
  {
   "cell_type": "code",
   "execution_count": null,
   "id": "afda56b5-c086-4e1d-aa5d-1135ea1e67f2",
   "metadata": {},
   "outputs": [],
   "source": [
    "df_resultados[df_resultados['ID'] == 718].head()"
   ]
  },
  {
   "cell_type": "code",
   "execution_count": null,
   "id": "4d77e90d-a7cd-47b5-b331-03cb230b08db",
   "metadata": {},
   "outputs": [],
   "source": [
    "df_resaultados['NAME'].value_counts()"
   ]
  },
  {
   "cell_type": "code",
   "execution_count": null,
   "id": "59aa69a3-01a1-470f-b0f8-d9cb400434dd",
   "metadata": {},
   "outputs": [],
   "source": [
    "df_resultados[df_resultados['NAME'] =='730100']['ID'].value_counts()"
   ]
  },
  {
   "cell_type": "code",
   "execution_count": null,
   "id": "0a1d07a0-9958-4e31-b1b4-44cfa7574d2a",
   "metadata": {},
   "outputs": [],
   "source": [
    "df_falha = df[df['STATUS'] == 13]"
   ]
  },
  {
   "cell_type": "markdown",
   "id": "e0e360ea-6381-4834-b4ae-8536d1e96fc8",
   "metadata": {},
   "source": [
    "## Explorando tabela de falhas"
   ]
  },
  {
   "cell_type": "code",
   "execution_count": null,
   "id": "1f327acd-fbd5-46ce-8c8a-71832516db0a",
   "metadata": {},
   "outputs": [],
   "source": [
    "df_falhas.head()"
   ]
  },
  {
   "cell_type": "markdown",
   "id": "6b496c05-b17a-4a32-b393-32bbb73e4f60",
   "metadata": {
    "jp-MarkdownHeadingCollapsed": true
   },
   "source": [
    "### Ajustando dataframe de resultados"
   ]
  },
  {
   "cell_type": "code",
   "execution_count": null,
   "id": "4d01cdd5-61b0-4697-9369-3e46411202c4",
   "metadata": {},
   "outputs": [],
   "source": [
    "df_falhas = df_falhas.dropna(axis=1, how='all')"
   ]
  },
  {
   "cell_type": "code",
   "execution_count": null,
   "id": "7237d020-45cc-4d63-b0c4-04426fd7f961",
   "metadata": {},
   "outputs": [],
   "source": [
    "df_falhas.columns = df_falhas.iloc[0]\n",
    "df_falhas.drop(columns=[\"MODELO\"], inplace=True)\n",
    "df_falhas.drop(df_falhas.index[0], inplace=True)"
   ]
  },
  {
   "cell_type": "code",
   "execution_count": null,
   "id": "6f3b7759-71e5-4f41-93ee-032fead6949d",
   "metadata": {},
   "outputs": [],
   "source": [
    "df_falhas.head()"
   ]
  },
  {
   "cell_type": "markdown",
   "id": "889e9834-2f1d-42e6-9232-820cfd58ef60",
   "metadata": {},
   "source": [
    "### Avaliando features"
   ]
  },
  {
   "cell_type": "code",
   "execution_count": null,
   "id": "e6b0519f-8d88-4402-bb5e-37551dcc2c02",
   "metadata": {},
   "outputs": [],
   "source": [
    "df_falhas.describe()"
   ]
  },
  {
   "cell_type": "code",
   "execution_count": null,
   "id": "85c3c75d-2c18-4e73-9365-f8348d1918f9",
   "metadata": {},
   "outputs": [],
   "source": [
    "profile_falhas = ProfileReport(df_falhas, title='Relatório de Análise Descritiva - Falhas', explorative=True)\n",
    "\n",
    "\n",
    "profile_falhas.to_file(\"relatorio_analise_descritiva_falhas.html\")"
   ]
  },
  {
   "cell_type": "markdown",
   "id": "a6d75bf9-0556-4c8f-b1dc-96666368ef5d",
   "metadata": {
    "jp-MarkdownHeadingCollapsed": true
   },
   "source": [
    "## Juntando dataframes"
   ]
  },
  {
   "cell_type": "markdown",
   "id": "f4ce8389-0cf7-4442-b7fb-5f5e161e30af",
   "metadata": {
    "jp-MarkdownHeadingCollapsed": true
   },
   "source": [
    "### Testando com 1 KNR\n",
    "\n",
    "KNR escolhido: 2023-2056234"
   ]
  },
  {
   "cell_type": "code",
   "execution_count": null,
   "id": "f190710c-f5b2-4bb1-b35a-1681cfdde916",
   "metadata": {},
   "outputs": [],
   "source": [
    "df_r1 = df_resultados[df_resultados['KNR'] == '2023-2056234']"
   ]
  },
  {
   "cell_type": "code",
   "execution_count": null,
   "id": "3199d2d8-83fe-4828-8cd0-2f1e2331b90d",
   "metadata": {},
   "outputs": [],
   "source": [
    "df_f1 = df_falhas[df_falhas['KNR'] == '2023-2056234']"
   ]
  },
  {
   "cell_type": "code",
   "execution_count": null,
   "id": "7cddb1d6-2979-463d-9d32-aee3286adb22",
   "metadata": {},
   "outputs": [],
   "source": [
    "df_2 = pd.merge(df_r1, df_f1, on=\"KNR\")"
   ]
  },
  {
   "cell_type": "code",
   "execution_count": null,
   "id": "5acc88e1-9550-4fdd-8873-3b11b94c1054",
   "metadata": {},
   "outputs": [],
   "source": [
    "df_2.head()"
   ]
  },
  {
   "cell_type": "markdown",
   "id": "230c1a64-7522-45bc-9a3f-f5d923fe861a",
   "metadata": {
    "jp-MarkdownHeadingCollapsed": true
   },
   "source": [
    "### Merge nos dataframes"
   ]
  },
  {
   "cell_type": "code",
   "execution_count": null,
   "id": "5c777dfc-510f-4519-921e-d185bb5b178b",
   "metadata": {},
   "outputs": [],
   "source": [
    "df = pd.merge(df_resultados, df_falhas, on=\"KNR\")"
   ]
  }
 ],
 "metadata": {
  "kernelspec": {
   "display_name": "Python 3 (ipykernel)",
   "language": "python",
   "name": "python3"
  },
  "language_info": {
   "codemirror_mode": {
    "name": "ipython",
    "version": 3
   },
   "file_extension": ".py",
   "mimetype": "text/x-python",
   "name": "python",
   "nbconvert_exporter": "python",
   "pygments_lexer": "ipython3",
   "version": "3.10.11"
  }
 },
 "nbformat": 4,
 "nbformat_minor": 5
}
