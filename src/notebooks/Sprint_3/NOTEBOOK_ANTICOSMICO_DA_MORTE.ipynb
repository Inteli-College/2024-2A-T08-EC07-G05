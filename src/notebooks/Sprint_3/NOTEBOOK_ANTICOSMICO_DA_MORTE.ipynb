{
 "cells": [
  {
   "cell_type": "code",
   "execution_count": 1,
   "metadata": {},
   "outputs": [
    {
     "name": "stdout",
     "output_type": "stream",
     "text": [
      "            KNR  QTD_STATUS_1_OK  QTD_STATUS_1_NOK  QTD_STATUS_2_OK  \\\n",
      "0  2023-5076008                0                 0                0   \n",
      "1  2023-5076015                0                 0                0   \n",
      "2  2024-0516009                0                 0               16   \n",
      "3  2024-0526019                0                 0                0   \n",
      "4  2024-0526096                0                 0                4   \n",
      "\n",
      "   QTD_STATUS_2_NOK  QTD_STATUS_718_OK  QTD_STATUS_718_NOK  TEMPO_MEDIO MOTOR  \\\n",
      "0                 0                  1                   2    54.250000   DHS   \n",
      "1                 0                  1                   1    54.250000   DHS   \n",
      "2                 0                 40                   0    54.250000   CWL   \n",
      "3                 0                  1                   0    26.416667   DHS   \n",
      "4                 0                 53                   1    26.416667   DHS   \n",
      "\n",
      "    COR  ...  QTD_SGROUP_2  QTD_SGROUP_4  QTD_SGROUP_5  QTD_SGROUP_9830946  \\\n",
      "0  0Q0Q  ...           8.0           3.0           4.0                 0.0   \n",
      "1  0Q0Q  ...           4.0           4.0           2.0                 0.0   \n",
      "2  5T5T  ...           5.0           2.0           6.0                 3.0   \n",
      "3  0Q0Q  ...           3.0           1.0           0.0                 0.0   \n",
      "4  K2K2  ...           1.0           2.0           0.0                 0.0   \n",
      "\n",
      "   TEM_FALHA_ROD  ZP5_MIN  ZP5A_MIN  ZP61_MIN  ZP6 / ZP62_MIN  CAB_MIN  \n",
      "0            1.0      NaN       NaN       NaN             NaN      NaN  \n",
      "1            0.0      NaN       NaN       NaN             NaN      NaN  \n",
      "2            0.0      NaN       NaN       NaN             NaN      NaN  \n",
      "3            0.0      NaN       NaN       NaN             NaN      NaN  \n",
      "4            0.0      NaN       NaN       NaN             NaN      NaN  \n",
      "\n",
      "[5 rows x 47 columns]\n"
     ]
    }
   ],
   "source": [
    "import pandas as pd\n",
    "\n",
    "# Load the parquet files\n",
    "comum = pd.read_parquet('DF_KNRS_COMUM_PROCESSADO.parquet')\n",
    "tempo = pd.read_parquet('tempo_de_cada_knr_por_halle.parquet')\n",
    "\n",
    "# Merge the 'comum' and 'tempo' DataFrames on the KNR column\n",
    "merged_df = comum.merge(tempo, on='KNR', how='left')\n",
    "\n",
    "# Display or save the merged DataFrame\n",
    "print(merged_df.head())\n"
   ]
  },
  {
   "cell_type": "code",
   "execution_count": null,
   "metadata": {},
   "outputs": [],
   "source": []
  }
 ],
 "metadata": {
  "kernelspec": {
   "display_name": "Python 3 (ipykernel)",
   "language": "python",
   "name": "python3"
  },
  "language_info": {
   "codemirror_mode": {
    "name": "ipython",
    "version": 3
   },
   "file_extension": ".py",
   "mimetype": "text/x-python",
   "name": "python",
   "nbconvert_exporter": "python",
   "pygments_lexer": "ipython3",
   "version": "3.12.4"
  }
 },
 "nbformat": 4,
 "nbformat_minor": 4
}
